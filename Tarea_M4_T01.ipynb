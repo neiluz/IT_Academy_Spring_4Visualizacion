{
 "cells": [
  {
   "cell_type": "markdown",
   "id": "27058482",
   "metadata": {},
   "source": [
    "# Tarea M4 T01"
   ]
  },
  {
   "cell_type": "markdown",
   "id": "a871b94f",
   "metadata": {},
   "source": [
    "**Utilizando las bibliotecas de visualización de datos Matplotlib o Seaborn, realiza los siguientes ejercicios.**"
   ]
  },
  {
   "cell_type": "markdown",
   "id": "b3ed63ed",
   "metadata": {},
   "source": [
    "## Ejercicio N°1"
   ]
  },
  {
   "cell_type": "markdown",
   "id": "21ece983",
   "metadata": {},
   "source": [
    "Descarga el dataset adjunto precio alquiler por trimestre y barri.csv  extraído de la web OpenDataBCN. Resume estadísticamente y gráficamente.\n",
    "\n",
    "Crea al menos una visualización para:\n",
    "\n",
    "* Una variable categórica (Distrito o Barrio)\n",
    "* Una variable numérica (Precio)\n",
    "* Una variable numérica y una categórica (Distrito y Precio)\n",
    "* Dos variables numéricas (Año o Trimestre y Precio)\n",
    "* Tres variables (Barrio o Distrito, Trimestre y Precio)\n"
   ]
  },
  {
   "cell_type": "markdown",
   "id": "f38df97b",
   "metadata": {},
   "source": [
    "### Preparación de la data"
   ]
  },
  {
   "cell_type": "code",
   "execution_count": 1,
   "id": "74cb84a2",
   "metadata": {},
   "outputs": [],
   "source": [
    "import pandas as pd\n",
    "import numpy as np"
   ]
  },
  {
   "cell_type": "code",
   "execution_count": 2,
   "id": "22af836a",
   "metadata": {},
   "outputs": [
    {
     "data": {
      "text/html": [
       "<div>\n",
       "<style scoped>\n",
       "    .dataframe tbody tr th:only-of-type {\n",
       "        vertical-align: middle;\n",
       "    }\n",
       "\n",
       "    .dataframe tbody tr th {\n",
       "        vertical-align: top;\n",
       "    }\n",
       "\n",
       "    .dataframe thead th {\n",
       "        text-align: right;\n",
       "    }\n",
       "</style>\n",
       "<table border=\"1\" class=\"dataframe\">\n",
       "  <thead>\n",
       "    <tr style=\"text-align: right;\">\n",
       "      <th></th>\n",
       "      <th>Any</th>\n",
       "      <th>Trimestre</th>\n",
       "      <th>Codi_Districte</th>\n",
       "      <th>Nom_Districte</th>\n",
       "      <th>Codi_Barri</th>\n",
       "      <th>Nom_Barri</th>\n",
       "      <th>Lloguer_mitja</th>\n",
       "      <th>Preu</th>\n",
       "    </tr>\n",
       "  </thead>\n",
       "  <tbody>\n",
       "    <tr>\n",
       "      <th>0</th>\n",
       "      <td>2021</td>\n",
       "      <td>1</td>\n",
       "      <td>1</td>\n",
       "      <td>Ciutat Vella</td>\n",
       "      <td>1</td>\n",
       "      <td>el Raval</td>\n",
       "      <td>Lloguer mitjà mensual (Euros/mes)</td>\n",
       "      <td>759.2</td>\n",
       "    </tr>\n",
       "    <tr>\n",
       "      <th>1</th>\n",
       "      <td>2021</td>\n",
       "      <td>1</td>\n",
       "      <td>1</td>\n",
       "      <td>Ciutat Vella</td>\n",
       "      <td>2</td>\n",
       "      <td>el Barri Gòtic</td>\n",
       "      <td>Lloguer mitjà mensual (Euros/mes)</td>\n",
       "      <td>929.6</td>\n",
       "    </tr>\n",
       "    <tr>\n",
       "      <th>2</th>\n",
       "      <td>2021</td>\n",
       "      <td>1</td>\n",
       "      <td>1</td>\n",
       "      <td>Ciutat Vella</td>\n",
       "      <td>3</td>\n",
       "      <td>la Barceloneta</td>\n",
       "      <td>Lloguer mitjà mensual (Euros/mes)</td>\n",
       "      <td>808.9</td>\n",
       "    </tr>\n",
       "    <tr>\n",
       "      <th>3</th>\n",
       "      <td>2021</td>\n",
       "      <td>1</td>\n",
       "      <td>1</td>\n",
       "      <td>Ciutat Vella</td>\n",
       "      <td>4</td>\n",
       "      <td>Sant Pere, Santa Caterina i la Ribera</td>\n",
       "      <td>Lloguer mitjà mensual (Euros/mes)</td>\n",
       "      <td>879.4</td>\n",
       "    </tr>\n",
       "    <tr>\n",
       "      <th>4</th>\n",
       "      <td>2021</td>\n",
       "      <td>1</td>\n",
       "      <td>2</td>\n",
       "      <td>Eixample</td>\n",
       "      <td>5</td>\n",
       "      <td>el Fort Pienc</td>\n",
       "      <td>Lloguer mitjà mensual (Euros/mes)</td>\n",
       "      <td>918.0</td>\n",
       "    </tr>\n",
       "    <tr>\n",
       "      <th>...</th>\n",
       "      <td>...</td>\n",
       "      <td>...</td>\n",
       "      <td>...</td>\n",
       "      <td>...</td>\n",
       "      <td>...</td>\n",
       "      <td>...</td>\n",
       "      <td>...</td>\n",
       "      <td>...</td>\n",
       "    </tr>\n",
       "    <tr>\n",
       "      <th>579</th>\n",
       "      <td>2021</td>\n",
       "      <td>4</td>\n",
       "      <td>10</td>\n",
       "      <td>Sant Martí</td>\n",
       "      <td>69</td>\n",
       "      <td>Diagonal Mar i el Front Marítim del Poblenou</td>\n",
       "      <td>Lloguer mitjà per superfície (Euros/m2 mes)</td>\n",
       "      <td>15.2</td>\n",
       "    </tr>\n",
       "    <tr>\n",
       "      <th>580</th>\n",
       "      <td>2021</td>\n",
       "      <td>4</td>\n",
       "      <td>10</td>\n",
       "      <td>Sant Martí</td>\n",
       "      <td>70</td>\n",
       "      <td>el Besòs i el Maresme</td>\n",
       "      <td>Lloguer mitjà per superfície (Euros/m2 mes)</td>\n",
       "      <td>10.8</td>\n",
       "    </tr>\n",
       "    <tr>\n",
       "      <th>581</th>\n",
       "      <td>2021</td>\n",
       "      <td>4</td>\n",
       "      <td>10</td>\n",
       "      <td>Sant Martí</td>\n",
       "      <td>71</td>\n",
       "      <td>Provençals del Poblenou</td>\n",
       "      <td>Lloguer mitjà per superfície (Euros/m2 mes)</td>\n",
       "      <td>13.8</td>\n",
       "    </tr>\n",
       "    <tr>\n",
       "      <th>582</th>\n",
       "      <td>2021</td>\n",
       "      <td>4</td>\n",
       "      <td>10</td>\n",
       "      <td>Sant Martí</td>\n",
       "      <td>72</td>\n",
       "      <td>Sant Martí de Provençals</td>\n",
       "      <td>Lloguer mitjà per superfície (Euros/m2 mes)</td>\n",
       "      <td>11.7</td>\n",
       "    </tr>\n",
       "    <tr>\n",
       "      <th>583</th>\n",
       "      <td>2021</td>\n",
       "      <td>4</td>\n",
       "      <td>10</td>\n",
       "      <td>Sant Martí</td>\n",
       "      <td>73</td>\n",
       "      <td>la Verneda i la Pau</td>\n",
       "      <td>Lloguer mitjà per superfície (Euros/m2 mes)</td>\n",
       "      <td>11.3</td>\n",
       "    </tr>\n",
       "  </tbody>\n",
       "</table>\n",
       "<p>584 rows × 8 columns</p>\n",
       "</div>"
      ],
      "text/plain": [
       "      Any  Trimestre  Codi_Districte Nom_Districte  Codi_Barri  \\\n",
       "0    2021          1               1  Ciutat Vella           1   \n",
       "1    2021          1               1  Ciutat Vella           2   \n",
       "2    2021          1               1  Ciutat Vella           3   \n",
       "3    2021          1               1  Ciutat Vella           4   \n",
       "4    2021          1               2      Eixample           5   \n",
       "..    ...        ...             ...           ...         ...   \n",
       "579  2021          4              10    Sant Martí          69   \n",
       "580  2021          4              10    Sant Martí          70   \n",
       "581  2021          4              10    Sant Martí          71   \n",
       "582  2021          4              10    Sant Martí          72   \n",
       "583  2021          4              10    Sant Martí          73   \n",
       "\n",
       "                                        Nom_Barri  \\\n",
       "0                                        el Raval   \n",
       "1                                  el Barri Gòtic   \n",
       "2                                  la Barceloneta   \n",
       "3           Sant Pere, Santa Caterina i la Ribera   \n",
       "4                                   el Fort Pienc   \n",
       "..                                            ...   \n",
       "579  Diagonal Mar i el Front Marítim del Poblenou   \n",
       "580                         el Besòs i el Maresme   \n",
       "581                       Provençals del Poblenou   \n",
       "582                      Sant Martí de Provençals   \n",
       "583                           la Verneda i la Pau   \n",
       "\n",
       "                                   Lloguer_mitja   Preu  \n",
       "0              Lloguer mitjà mensual (Euros/mes)  759.2  \n",
       "1              Lloguer mitjà mensual (Euros/mes)  929.6  \n",
       "2              Lloguer mitjà mensual (Euros/mes)  808.9  \n",
       "3              Lloguer mitjà mensual (Euros/mes)  879.4  \n",
       "4              Lloguer mitjà mensual (Euros/mes)  918.0  \n",
       "..                                           ...    ...  \n",
       "579  Lloguer mitjà per superfície (Euros/m2 mes)   15.2  \n",
       "580  Lloguer mitjà per superfície (Euros/m2 mes)   10.8  \n",
       "581  Lloguer mitjà per superfície (Euros/m2 mes)   13.8  \n",
       "582  Lloguer mitjà per superfície (Euros/m2 mes)   11.7  \n",
       "583  Lloguer mitjà per superfície (Euros/m2 mes)   11.3  \n",
       "\n",
       "[584 rows x 8 columns]"
      ]
     },
     "execution_count": 2,
     "metadata": {},
     "output_type": "execute_result"
    }
   ],
   "source": [
    "alquiler_Data = pd.read_csv('preu lloguer per trimestre i barri.csv')\n",
    "alquiler_Data"
   ]
  },
  {
   "cell_type": "markdown",
   "id": "d55439f5",
   "metadata": {},
   "source": [
    "* **Informacion de la data**"
   ]
  },
  {
   "cell_type": "code",
   "execution_count": 3,
   "id": "f035c1e8",
   "metadata": {},
   "outputs": [
    {
     "name": "stdout",
     "output_type": "stream",
     "text": [
      "<class 'pandas.core.frame.DataFrame'>\n",
      "RangeIndex: 584 entries, 0 to 583\n",
      "Data columns (total 8 columns):\n",
      " #   Column          Non-Null Count  Dtype \n",
      "---  ------          --------------  ----- \n",
      " 0   Any             584 non-null    int64 \n",
      " 1   Trimestre       584 non-null    int64 \n",
      " 2   Codi_Districte  584 non-null    int64 \n",
      " 3   Nom_Districte   584 non-null    object\n",
      " 4   Codi_Barri      584 non-null    int64 \n",
      " 5   Nom_Barri       584 non-null    object\n",
      " 6   Lloguer_mitja   584 non-null    object\n",
      " 7   Preu            584 non-null    object\n",
      "dtypes: int64(4), object(4)\n",
      "memory usage: 36.6+ KB\n"
     ]
    }
   ],
   "source": [
    "alquiler_Data.info()"
   ]
  },
  {
   "cell_type": "code",
   "execution_count": 4,
   "id": "ba7a9148",
   "metadata": {},
   "outputs": [
    {
     "data": {
      "text/plain": [
       "Index(['Any', 'Trimestre', 'Codi_Districte', 'Nom_Districte', 'Codi_Barri',\n",
       "       'Nom_Barri', 'Lloguer_mitja', 'Preu'],\n",
       "      dtype='object')"
      ]
     },
     "execution_count": 4,
     "metadata": {},
     "output_type": "execute_result"
    }
   ],
   "source": [
    "alquiler_Data.columns"
   ]
  },
  {
   "cell_type": "markdown",
   "id": "4d260336",
   "metadata": {},
   "source": [
    "* **Dimensiones**"
   ]
  },
  {
   "cell_type": "code",
   "execution_count": 4,
   "id": "8abf33d9",
   "metadata": {},
   "outputs": [
    {
     "data": {
      "text/plain": [
       "(584, 8)"
      ]
     },
     "execution_count": 4,
     "metadata": {},
     "output_type": "execute_result"
    }
   ],
   "source": [
    "alquiler_Data.shape"
   ]
  },
  {
   "cell_type": "markdown",
   "id": "f9825486",
   "metadata": {},
   "source": [
    "La dataset contiene 8 columnas y 584 registros. Se tienen 4 columnas contienen valores numéricos y 4 columnas tienen el tipo de objeto de datos, sin embargo se observa que el precio tienen principalmente valores numéricos, quizas es objeto, debido que contienen valores diferentes tipo string o porque contienen valores vacíos (NaN). Para facilitar nuestro análisis, vamos a convertir la columna en tipos de datos numéricos mientras ignoramos cualquier valor no numérico."
   ]
  },
  {
   "cell_type": "markdown",
   "id": "a0e18935",
   "metadata": {},
   "source": [
    "* **Chequar valores duplicados**"
   ]
  },
  {
   "cell_type": "code",
   "execution_count": 5,
   "id": "e30ffa7b",
   "metadata": {},
   "outputs": [
    {
     "data": {
      "text/html": [
       "<div>\n",
       "<style scoped>\n",
       "    .dataframe tbody tr th:only-of-type {\n",
       "        vertical-align: middle;\n",
       "    }\n",
       "\n",
       "    .dataframe tbody tr th {\n",
       "        vertical-align: top;\n",
       "    }\n",
       "\n",
       "    .dataframe thead th {\n",
       "        text-align: right;\n",
       "    }\n",
       "</style>\n",
       "<table border=\"1\" class=\"dataframe\">\n",
       "  <thead>\n",
       "    <tr style=\"text-align: right;\">\n",
       "      <th></th>\n",
       "      <th>Any</th>\n",
       "      <th>Trimestre</th>\n",
       "      <th>Codi_Districte</th>\n",
       "      <th>Nom_Districte</th>\n",
       "      <th>Codi_Barri</th>\n",
       "      <th>Nom_Barri</th>\n",
       "      <th>Lloguer_mitja</th>\n",
       "      <th>Preu</th>\n",
       "    </tr>\n",
       "  </thead>\n",
       "  <tbody>\n",
       "  </tbody>\n",
       "</table>\n",
       "</div>"
      ],
      "text/plain": [
       "Empty DataFrame\n",
       "Columns: [Any, Trimestre, Codi_Districte, Nom_Districte, Codi_Barri, Nom_Barri, Lloguer_mitja, Preu]\n",
       "Index: []"
      ]
     },
     "execution_count": 5,
     "metadata": {},
     "output_type": "execute_result"
    }
   ],
   "source": [
    "alquiler_Data.loc[alquiler_Data.duplicated()]"
   ]
  },
  {
   "cell_type": "markdown",
   "id": "f4d74fd8",
   "metadata": {},
   "source": [
    "* **Chequear valores NaN**"
   ]
  },
  {
   "cell_type": "code",
   "execution_count": 6,
   "id": "5b5e177b",
   "metadata": {},
   "outputs": [
    {
     "data": {
      "text/plain": [
       "Any               0\n",
       "Trimestre         0\n",
       "Codi_Districte    0\n",
       "Nom_Districte     0\n",
       "Codi_Barri        0\n",
       "Nom_Barri         0\n",
       "Lloguer_mitja     0\n",
       "Preu              0\n",
       "dtype: int64"
      ]
     },
     "execution_count": 6,
     "metadata": {},
     "output_type": "execute_result"
    }
   ],
   "source": [
    "alquiler_Data.isna().sum().sort_values(ascending = False)"
   ]
  },
  {
   "cell_type": "code",
   "execution_count": 7,
   "id": "094fccca",
   "metadata": {},
   "outputs": [
    {
     "data": {
      "text/plain": [
       "Any               0\n",
       "Trimestre         0\n",
       "Codi_Districte    0\n",
       "Nom_Districte     0\n",
       "Codi_Barri        0\n",
       "Nom_Barri         0\n",
       "Lloguer_mitja     0\n",
       "Preu              0\n",
       "dtype: int64"
      ]
     },
     "execution_count": 7,
     "metadata": {},
     "output_type": "execute_result"
    }
   ],
   "source": [
    "alquiler_Data.isnull().sum().sort_values(ascending = False)"
   ]
  },
  {
   "cell_type": "markdown",
   "id": "959e59b6",
   "metadata": {},
   "source": [
    "* **Convertir la variable precio de objeto a numérica**"
   ]
  },
  {
   "cell_type": "code",
   "execution_count": 8,
   "id": "cf705d64",
   "metadata": {},
   "outputs": [
    {
     "data": {
      "text/plain": [
       "0      759.2\n",
       "1      929.6\n",
       "2      808.9\n",
       "3      879.4\n",
       "4      918.0\n",
       "       ...  \n",
       "579     15.2\n",
       "580     10.8\n",
       "581     13.8\n",
       "582     11.7\n",
       "583     11.3\n",
       "Name: Preu, Length: 584, dtype: object"
      ]
     },
     "execution_count": 8,
     "metadata": {},
     "output_type": "execute_result"
    }
   ],
   "source": [
    "alquiler_Data['Preu']"
   ]
  },
  {
   "cell_type": "code",
   "execution_count": 9,
   "id": "c328c772",
   "metadata": {},
   "outputs": [
    {
     "data": {
      "text/plain": [
       "False    540\n",
       "True      44\n",
       "Name: Preu, dtype: int64"
      ]
     },
     "execution_count": 9,
     "metadata": {},
     "output_type": "execute_result"
    }
   ],
   "source": [
    "alquiler_Data.Preu.str.contains('--').value_counts()"
   ]
  },
  {
   "cell_type": "markdown",
   "id": "014b7e1f",
   "metadata": {},
   "source": [
    "Se identificó que la columna Precio tiene algunos valores string(--), por lo que se precedió a se reemplazados por valores no mumericos y así cambiar los valores de la columna a valores numéricos."
   ]
  },
  {
   "cell_type": "code",
   "execution_count": 10,
   "id": "a51e48b5",
   "metadata": {},
   "outputs": [
    {
     "data": {
      "text/html": [
       "<div>\n",
       "<style scoped>\n",
       "    .dataframe tbody tr th:only-of-type {\n",
       "        vertical-align: middle;\n",
       "    }\n",
       "\n",
       "    .dataframe tbody tr th {\n",
       "        vertical-align: top;\n",
       "    }\n",
       "\n",
       "    .dataframe thead th {\n",
       "        text-align: right;\n",
       "    }\n",
       "</style>\n",
       "<table border=\"1\" class=\"dataframe\">\n",
       "  <thead>\n",
       "    <tr style=\"text-align: right;\">\n",
       "      <th></th>\n",
       "      <th>Any</th>\n",
       "      <th>Trimestre</th>\n",
       "      <th>Codi_Districte</th>\n",
       "      <th>Nom_Districte</th>\n",
       "      <th>Codi_Barri</th>\n",
       "      <th>Nom_Barri</th>\n",
       "      <th>Lloguer_mitja</th>\n",
       "      <th>Preu</th>\n",
       "    </tr>\n",
       "  </thead>\n",
       "  <tbody>\n",
       "    <tr>\n",
       "      <th>0</th>\n",
       "      <td>2021</td>\n",
       "      <td>1</td>\n",
       "      <td>1</td>\n",
       "      <td>Ciutat Vella</td>\n",
       "      <td>1</td>\n",
       "      <td>el Raval</td>\n",
       "      <td>Lloguer mitjà mensual (Euros/mes)</td>\n",
       "      <td>759.2</td>\n",
       "    </tr>\n",
       "    <tr>\n",
       "      <th>1</th>\n",
       "      <td>2021</td>\n",
       "      <td>1</td>\n",
       "      <td>1</td>\n",
       "      <td>Ciutat Vella</td>\n",
       "      <td>2</td>\n",
       "      <td>el Barri Gòtic</td>\n",
       "      <td>Lloguer mitjà mensual (Euros/mes)</td>\n",
       "      <td>929.6</td>\n",
       "    </tr>\n",
       "    <tr>\n",
       "      <th>2</th>\n",
       "      <td>2021</td>\n",
       "      <td>1</td>\n",
       "      <td>1</td>\n",
       "      <td>Ciutat Vella</td>\n",
       "      <td>3</td>\n",
       "      <td>la Barceloneta</td>\n",
       "      <td>Lloguer mitjà mensual (Euros/mes)</td>\n",
       "      <td>808.9</td>\n",
       "    </tr>\n",
       "    <tr>\n",
       "      <th>3</th>\n",
       "      <td>2021</td>\n",
       "      <td>1</td>\n",
       "      <td>1</td>\n",
       "      <td>Ciutat Vella</td>\n",
       "      <td>4</td>\n",
       "      <td>Sant Pere, Santa Caterina i la Ribera</td>\n",
       "      <td>Lloguer mitjà mensual (Euros/mes)</td>\n",
       "      <td>879.4</td>\n",
       "    </tr>\n",
       "    <tr>\n",
       "      <th>4</th>\n",
       "      <td>2021</td>\n",
       "      <td>1</td>\n",
       "      <td>2</td>\n",
       "      <td>Eixample</td>\n",
       "      <td>5</td>\n",
       "      <td>el Fort Pienc</td>\n",
       "      <td>Lloguer mitjà mensual (Euros/mes)</td>\n",
       "      <td>918.0</td>\n",
       "    </tr>\n",
       "    <tr>\n",
       "      <th>...</th>\n",
       "      <td>...</td>\n",
       "      <td>...</td>\n",
       "      <td>...</td>\n",
       "      <td>...</td>\n",
       "      <td>...</td>\n",
       "      <td>...</td>\n",
       "      <td>...</td>\n",
       "      <td>...</td>\n",
       "    </tr>\n",
       "    <tr>\n",
       "      <th>579</th>\n",
       "      <td>2021</td>\n",
       "      <td>4</td>\n",
       "      <td>10</td>\n",
       "      <td>Sant Martí</td>\n",
       "      <td>69</td>\n",
       "      <td>Diagonal Mar i el Front Marítim del Poblenou</td>\n",
       "      <td>Lloguer mitjà per superfície (Euros/m2 mes)</td>\n",
       "      <td>15.2</td>\n",
       "    </tr>\n",
       "    <tr>\n",
       "      <th>580</th>\n",
       "      <td>2021</td>\n",
       "      <td>4</td>\n",
       "      <td>10</td>\n",
       "      <td>Sant Martí</td>\n",
       "      <td>70</td>\n",
       "      <td>el Besòs i el Maresme</td>\n",
       "      <td>Lloguer mitjà per superfície (Euros/m2 mes)</td>\n",
       "      <td>10.8</td>\n",
       "    </tr>\n",
       "    <tr>\n",
       "      <th>581</th>\n",
       "      <td>2021</td>\n",
       "      <td>4</td>\n",
       "      <td>10</td>\n",
       "      <td>Sant Martí</td>\n",
       "      <td>71</td>\n",
       "      <td>Provençals del Poblenou</td>\n",
       "      <td>Lloguer mitjà per superfície (Euros/m2 mes)</td>\n",
       "      <td>13.8</td>\n",
       "    </tr>\n",
       "    <tr>\n",
       "      <th>582</th>\n",
       "      <td>2021</td>\n",
       "      <td>4</td>\n",
       "      <td>10</td>\n",
       "      <td>Sant Martí</td>\n",
       "      <td>72</td>\n",
       "      <td>Sant Martí de Provençals</td>\n",
       "      <td>Lloguer mitjà per superfície (Euros/m2 mes)</td>\n",
       "      <td>11.7</td>\n",
       "    </tr>\n",
       "    <tr>\n",
       "      <th>583</th>\n",
       "      <td>2021</td>\n",
       "      <td>4</td>\n",
       "      <td>10</td>\n",
       "      <td>Sant Martí</td>\n",
       "      <td>73</td>\n",
       "      <td>la Verneda i la Pau</td>\n",
       "      <td>Lloguer mitjà per superfície (Euros/m2 mes)</td>\n",
       "      <td>11.3</td>\n",
       "    </tr>\n",
       "  </tbody>\n",
       "</table>\n",
       "<p>584 rows × 8 columns</p>\n",
       "</div>"
      ],
      "text/plain": [
       "      Any  Trimestre  Codi_Districte Nom_Districte  Codi_Barri  \\\n",
       "0    2021          1               1  Ciutat Vella           1   \n",
       "1    2021          1               1  Ciutat Vella           2   \n",
       "2    2021          1               1  Ciutat Vella           3   \n",
       "3    2021          1               1  Ciutat Vella           4   \n",
       "4    2021          1               2      Eixample           5   \n",
       "..    ...        ...             ...           ...         ...   \n",
       "579  2021          4              10    Sant Martí          69   \n",
       "580  2021          4              10    Sant Martí          70   \n",
       "581  2021          4              10    Sant Martí          71   \n",
       "582  2021          4              10    Sant Martí          72   \n",
       "583  2021          4              10    Sant Martí          73   \n",
       "\n",
       "                                        Nom_Barri  \\\n",
       "0                                        el Raval   \n",
       "1                                  el Barri Gòtic   \n",
       "2                                  la Barceloneta   \n",
       "3           Sant Pere, Santa Caterina i la Ribera   \n",
       "4                                   el Fort Pienc   \n",
       "..                                            ...   \n",
       "579  Diagonal Mar i el Front Marítim del Poblenou   \n",
       "580                         el Besòs i el Maresme   \n",
       "581                       Provençals del Poblenou   \n",
       "582                      Sant Martí de Provençals   \n",
       "583                           la Verneda i la Pau   \n",
       "\n",
       "                                   Lloguer_mitja   Preu  \n",
       "0              Lloguer mitjà mensual (Euros/mes)  759.2  \n",
       "1              Lloguer mitjà mensual (Euros/mes)  929.6  \n",
       "2              Lloguer mitjà mensual (Euros/mes)  808.9  \n",
       "3              Lloguer mitjà mensual (Euros/mes)  879.4  \n",
       "4              Lloguer mitjà mensual (Euros/mes)  918.0  \n",
       "..                                           ...    ...  \n",
       "579  Lloguer mitjà per superfície (Euros/m2 mes)   15.2  \n",
       "580  Lloguer mitjà per superfície (Euros/m2 mes)   10.8  \n",
       "581  Lloguer mitjà per superfície (Euros/m2 mes)   13.8  \n",
       "582  Lloguer mitjà per superfície (Euros/m2 mes)   11.7  \n",
       "583  Lloguer mitjà per superfície (Euros/m2 mes)   11.3  \n",
       "\n",
       "[584 rows x 8 columns]"
      ]
     },
     "execution_count": 10,
     "metadata": {},
     "output_type": "execute_result"
    }
   ],
   "source": [
    "alquiler_Data=alquiler_Data.replace({'--':np.nan})\n",
    "alquiler_Data"
   ]
  },
  {
   "cell_type": "code",
   "execution_count": 11,
   "id": "26038043",
   "metadata": {},
   "outputs": [],
   "source": [
    "alquiler_Data['Preu'] = alquiler_Data['Preu'].astype('float64')"
   ]
  },
  {
   "cell_type": "code",
   "execution_count": 12,
   "id": "547bf9d9",
   "metadata": {},
   "outputs": [
    {
     "name": "stdout",
     "output_type": "stream",
     "text": [
      "<class 'pandas.core.frame.DataFrame'>\n",
      "RangeIndex: 584 entries, 0 to 583\n",
      "Data columns (total 8 columns):\n",
      " #   Column          Non-Null Count  Dtype  \n",
      "---  ------          --------------  -----  \n",
      " 0   Any             584 non-null    int64  \n",
      " 1   Trimestre       584 non-null    int64  \n",
      " 2   Codi_Districte  584 non-null    int64  \n",
      " 3   Nom_Districte   584 non-null    object \n",
      " 4   Codi_Barri      584 non-null    int64  \n",
      " 5   Nom_Barri       584 non-null    object \n",
      " 6   Lloguer_mitja   584 non-null    object \n",
      " 7   Preu            540 non-null    float64\n",
      "dtypes: float64(1), int64(4), object(3)\n",
      "memory usage: 36.6+ KB\n"
     ]
    }
   ],
   "source": [
    "alquiler_Data.info()"
   ]
  },
  {
   "cell_type": "markdown",
   "id": "22c2facd",
   "metadata": {},
   "source": [
    "* **Convertir las variables objetos a categoricas**."
   ]
  },
  {
   "cell_type": "code",
   "execution_count": 13,
   "id": "365f1a4c",
   "metadata": {},
   "outputs": [
    {
     "data": {
      "text/plain": [
       "Any                  int64\n",
       "Trimestre            int64\n",
       "Codi_Districte       int64\n",
       "Nom_Districte     category\n",
       "Codi_Barri           int64\n",
       "Nom_Barri         category\n",
       "Lloguer_mitja     category\n",
       "Preu               float64\n",
       "dtype: object"
      ]
     },
     "execution_count": 13,
     "metadata": {},
     "output_type": "execute_result"
    }
   ],
   "source": [
    "tipos = {'Nom_Districte':'category',\n",
    "         'Nom_Barri':'category',\n",
    "         'Lloguer_mitja':'category'}\n",
    "alquiler_Data.astype(tipos).dtypes"
   ]
  },
  {
   "cell_type": "markdown",
   "id": "af731ad0",
   "metadata": {},
   "source": [
    "### Vision global estadistica"
   ]
  },
  {
   "cell_type": "markdown",
   "id": "6c12251b",
   "metadata": {},
   "source": [
    "* **Variables categoricas**"
   ]
  },
  {
   "cell_type": "code",
   "execution_count": 14,
   "id": "faa4e3e1",
   "metadata": {
    "scrolled": true
   },
   "outputs": [
    {
     "data": {
      "text/html": [
       "<div>\n",
       "<style scoped>\n",
       "    .dataframe tbody tr th:only-of-type {\n",
       "        vertical-align: middle;\n",
       "    }\n",
       "\n",
       "    .dataframe tbody tr th {\n",
       "        vertical-align: top;\n",
       "    }\n",
       "\n",
       "    .dataframe thead th {\n",
       "        text-align: right;\n",
       "    }\n",
       "</style>\n",
       "<table border=\"1\" class=\"dataframe\">\n",
       "  <thead>\n",
       "    <tr style=\"text-align: right;\">\n",
       "      <th></th>\n",
       "      <th>count</th>\n",
       "      <th>unique</th>\n",
       "      <th>top</th>\n",
       "      <th>freq</th>\n",
       "    </tr>\n",
       "  </thead>\n",
       "  <tbody>\n",
       "    <tr>\n",
       "      <th>Nom_Districte</th>\n",
       "      <td>584</td>\n",
       "      <td>10</td>\n",
       "      <td>Nou Barris</td>\n",
       "      <td>104</td>\n",
       "    </tr>\n",
       "    <tr>\n",
       "      <th>Nom_Barri</th>\n",
       "      <td>584</td>\n",
       "      <td>73</td>\n",
       "      <td>el Raval</td>\n",
       "      <td>8</td>\n",
       "    </tr>\n",
       "    <tr>\n",
       "      <th>Lloguer_mitja</th>\n",
       "      <td>584</td>\n",
       "      <td>2</td>\n",
       "      <td>Lloguer mitjà mensual (Euros/mes)</td>\n",
       "      <td>292</td>\n",
       "    </tr>\n",
       "  </tbody>\n",
       "</table>\n",
       "</div>"
      ],
      "text/plain": [
       "              count unique                                top freq\n",
       "Nom_Districte   584     10                         Nou Barris  104\n",
       "Nom_Barri       584     73                           el Raval    8\n",
       "Lloguer_mitja   584      2  Lloguer mitjà mensual (Euros/mes)  292"
      ]
     },
     "execution_count": 14,
     "metadata": {},
     "output_type": "execute_result"
    }
   ],
   "source": [
    "alquiler_Data.describe(include = 'O').T"
   ]
  },
  {
   "cell_type": "code",
   "execution_count": 17,
   "id": "ed4f73fb",
   "metadata": {},
   "outputs": [
    {
     "data": {
      "text/plain": [
       "Lloguer mitjà mensual (Euros/mes)              292\n",
       "Lloguer mitjà per superfície (Euros/m2 mes)    292\n",
       "Name: Lloguer_mitja, dtype: int64"
      ]
     },
     "execution_count": 17,
     "metadata": {},
     "output_type": "execute_result"
    }
   ],
   "source": [
    "alquiler_Data.Lloguer_mitja.value_counts()"
   ]
  },
  {
   "cell_type": "code",
   "execution_count": 15,
   "id": "7f2960a5",
   "metadata": {
    "scrolled": true
   },
   "outputs": [
    {
     "data": {
      "text/plain": [
       "Nou Barris             104\n",
       "Horta-Guinardó          88\n",
       "Sant Martí              80\n",
       "Sants-Montjuïc          64\n",
       "Sant Andreu             56\n",
       "Eixample                48\n",
       "Sarrià-Sant Gervasi     48\n",
       "Gràcia                  40\n",
       "Ciutat Vella            32\n",
       "Les Corts               24\n",
       "Name: Nom_Districte, dtype: int64"
      ]
     },
     "execution_count": 15,
     "metadata": {},
     "output_type": "execute_result"
    }
   ],
   "source": [
    "districtos = alquiler_Data.Nom_Districte.value_counts()\n",
    "districtos"
   ]
  },
  {
   "cell_type": "code",
   "execution_count": 16,
   "id": "74d5f763",
   "metadata": {},
   "outputs": [
    {
     "data": {
      "text/plain": [
       "el Raval                                 8\n",
       "la Teixonera                             8\n",
       "Torre Baró                               8\n",
       "la Trinitat Nova                         8\n",
       "la Prosperitat                           8\n",
       "                                        ..\n",
       "Sant Gervasi - la Bonanova               8\n",
       "les Tres Torres                          8\n",
       "Sarrià                                   8\n",
       "Vallvidrera, el Tibidabo i les Planes    8\n",
       "la Verneda i la Pau                      8\n",
       "Name: Nom_Barri, Length: 73, dtype: int64"
      ]
     },
     "execution_count": 16,
     "metadata": {},
     "output_type": "execute_result"
    }
   ],
   "source": [
    "alquiler_Data.Nom_Barri.value_counts()"
   ]
  },
  {
   "cell_type": "markdown",
   "id": "4eefd8b0",
   "metadata": {},
   "source": [
    "* **Variables numéricas**"
   ]
  },
  {
   "cell_type": "markdown",
   "id": "57d35051",
   "metadata": {},
   "source": [
    "De acuerdo a las variables categoricas, el dataframe muestra dos tipos de precios: \n",
    "* Alquiler total (Euros/mes) \n",
    "* Alquiler por per superficie (Euros/m2 mes)\n",
    "\n",
    "En este sentido se realizará la valoración estadisticas considerando estos dos tipos de precios."
   ]
  },
  {
   "cell_type": "code",
   "execution_count": 17,
   "id": "4b4368d6",
   "metadata": {
    "scrolled": false
   },
   "outputs": [
    {
     "data": {
      "text/html": [
       "<div>\n",
       "<style scoped>\n",
       "    .dataframe tbody tr th:only-of-type {\n",
       "        vertical-align: middle;\n",
       "    }\n",
       "\n",
       "    .dataframe tbody tr th {\n",
       "        vertical-align: top;\n",
       "    }\n",
       "\n",
       "    .dataframe thead th {\n",
       "        text-align: right;\n",
       "    }\n",
       "</style>\n",
       "<table border=\"1\" class=\"dataframe\">\n",
       "  <thead>\n",
       "    <tr style=\"text-align: right;\">\n",
       "      <th></th>\n",
       "      <th>index</th>\n",
       "      <th>Preu</th>\n",
       "    </tr>\n",
       "  </thead>\n",
       "  <tbody>\n",
       "    <tr>\n",
       "      <th>0</th>\n",
       "      <td>count</td>\n",
       "      <td>270.000</td>\n",
       "    </tr>\n",
       "    <tr>\n",
       "      <th>1</th>\n",
       "      <td>mean</td>\n",
       "      <td>871.594</td>\n",
       "    </tr>\n",
       "    <tr>\n",
       "      <th>2</th>\n",
       "      <td>std</td>\n",
       "      <td>221.193</td>\n",
       "    </tr>\n",
       "    <tr>\n",
       "      <th>3</th>\n",
       "      <td>min</td>\n",
       "      <td>447.500</td>\n",
       "    </tr>\n",
       "    <tr>\n",
       "      <th>4</th>\n",
       "      <td>25%</td>\n",
       "      <td>742.475</td>\n",
       "    </tr>\n",
       "    <tr>\n",
       "      <th>5</th>\n",
       "      <td>50%</td>\n",
       "      <td>816.350</td>\n",
       "    </tr>\n",
       "    <tr>\n",
       "      <th>6</th>\n",
       "      <td>75%</td>\n",
       "      <td>934.525</td>\n",
       "    </tr>\n",
       "    <tr>\n",
       "      <th>7</th>\n",
       "      <td>max</td>\n",
       "      <td>1816.500</td>\n",
       "    </tr>\n",
       "  </tbody>\n",
       "</table>\n",
       "</div>"
      ],
      "text/plain": [
       "   index      Preu\n",
       "0  count   270.000\n",
       "1   mean   871.594\n",
       "2    std   221.193\n",
       "3    min   447.500\n",
       "4    25%   742.475\n",
       "5    50%   816.350\n",
       "6    75%   934.525\n",
       "7    max  1816.500"
      ]
     },
     "execution_count": 17,
     "metadata": {},
     "output_type": "execute_result"
    }
   ],
   "source": [
    "# Estadistica de las variables numericas para alquileres mensual (Euros/mes) \n",
    "alquiler_Data[alquiler_Data.Lloguer_mitja == 'Lloguer mitjà mensual (Euros/mes)']['Preu'].describe().round(3).reset_index()"
   ]
  },
  {
   "cell_type": "code",
   "execution_count": 18,
   "id": "09b5559f",
   "metadata": {},
   "outputs": [
    {
     "data": {
      "text/plain": [
       "871.594"
      ]
     },
     "execution_count": 18,
     "metadata": {},
     "output_type": "execute_result"
    }
   ],
   "source": [
    "#Calculo de la media para alquileres mensual (Euros/mes) \n",
    "media=(alquiler_Data[alquiler_Data.Lloguer_mitja == 'Lloguer mitjà mensual (Euros/mes)']['Preu']).mean()\n",
    "media_round=round(media,3)\n",
    "media_round"
   ]
  },
  {
   "cell_type": "code",
   "execution_count": 19,
   "id": "01178b22",
   "metadata": {},
   "outputs": [
    {
     "data": {
      "text/plain": [
       "816.35"
      ]
     },
     "execution_count": 19,
     "metadata": {},
     "output_type": "execute_result"
    }
   ],
   "source": [
    "#Calculo de la mediana para alquileres mensual (Euros/mes) \n",
    "median=(alquiler_Data[alquiler_Data.Lloguer_mitja == 'Lloguer mitjà mensual (Euros/mes)']['Preu']).median()\n",
    "median_round=round(median,3)\n",
    "median_round"
   ]
  },
  {
   "cell_type": "code",
   "execution_count": 20,
   "id": "d5d8bc85",
   "metadata": {},
   "outputs": [
    {
     "data": {
      "text/html": [
       "<div>\n",
       "<style scoped>\n",
       "    .dataframe tbody tr th:only-of-type {\n",
       "        vertical-align: middle;\n",
       "    }\n",
       "\n",
       "    .dataframe tbody tr th {\n",
       "        vertical-align: top;\n",
       "    }\n",
       "\n",
       "    .dataframe thead th {\n",
       "        text-align: right;\n",
       "    }\n",
       "</style>\n",
       "<table border=\"1\" class=\"dataframe\">\n",
       "  <thead>\n",
       "    <tr style=\"text-align: right;\">\n",
       "      <th></th>\n",
       "      <th>index</th>\n",
       "      <th>Preu</th>\n",
       "    </tr>\n",
       "  </thead>\n",
       "  <tbody>\n",
       "    <tr>\n",
       "      <th>0</th>\n",
       "      <td>count</td>\n",
       "      <td>270.000</td>\n",
       "    </tr>\n",
       "    <tr>\n",
       "      <th>1</th>\n",
       "      <td>mean</td>\n",
       "      <td>12.721</td>\n",
       "    </tr>\n",
       "    <tr>\n",
       "      <th>2</th>\n",
       "      <td>std</td>\n",
       "      <td>1.701</td>\n",
       "    </tr>\n",
       "    <tr>\n",
       "      <th>3</th>\n",
       "      <td>min</td>\n",
       "      <td>6.700</td>\n",
       "    </tr>\n",
       "    <tr>\n",
       "      <th>4</th>\n",
       "      <td>25%</td>\n",
       "      <td>11.625</td>\n",
       "    </tr>\n",
       "    <tr>\n",
       "      <th>5</th>\n",
       "      <td>50%</td>\n",
       "      <td>12.750</td>\n",
       "    </tr>\n",
       "    <tr>\n",
       "      <th>6</th>\n",
       "      <td>75%</td>\n",
       "      <td>13.600</td>\n",
       "    </tr>\n",
       "    <tr>\n",
       "      <th>7</th>\n",
       "      <td>max</td>\n",
       "      <td>18.000</td>\n",
       "    </tr>\n",
       "  </tbody>\n",
       "</table>\n",
       "</div>"
      ],
      "text/plain": [
       "   index     Preu\n",
       "0  count  270.000\n",
       "1   mean   12.721\n",
       "2    std    1.701\n",
       "3    min    6.700\n",
       "4    25%   11.625\n",
       "5    50%   12.750\n",
       "6    75%   13.600\n",
       "7    max   18.000"
      ]
     },
     "execution_count": 20,
     "metadata": {},
     "output_type": "execute_result"
    }
   ],
   "source": [
    "# Estadistica de las variables numericas para Alquiler por per superficie (Euros/m2 mes)\n",
    "alquiler_Data[alquiler_Data.Lloguer_mitja == 'Lloguer mitjà per superfície (Euros/m2 mes)']['Preu'].describe().round(3).reset_index()"
   ]
  },
  {
   "cell_type": "code",
   "execution_count": 21,
   "id": "2e3eef82",
   "metadata": {},
   "outputs": [
    {
     "data": {
      "text/plain": [
       "12.721"
      ]
     },
     "execution_count": 21,
     "metadata": {},
     "output_type": "execute_result"
    }
   ],
   "source": [
    "#Calculo de la media  para Alquiler por per superficie (Euros/m2 mes)\n",
    "mean_m2=(alquiler_Data[alquiler_Data.Lloguer_mitja == 'Lloguer mitjà per superfície (Euros/m2 mes)']['Preu']).mean()\n",
    "mean_m2_round=round(mean_m2,3)\n",
    "mean_m2_round"
   ]
  },
  {
   "cell_type": "code",
   "execution_count": 22,
   "id": "901d408f",
   "metadata": {},
   "outputs": [
    {
     "data": {
      "text/plain": [
       "12.75"
      ]
     },
     "execution_count": 22,
     "metadata": {},
     "output_type": "execute_result"
    }
   ],
   "source": [
    "# Calculo de la media para Alquiler por per superficie (Euros/m2 mes)\n",
    "media_m2=(alquiler_Data[alquiler_Data.Lloguer_mitja == 'Lloguer mitjà per superfície (Euros/m2 mes)']['Preu']).median()\n",
    "median_round_m2=round(media_m2,3)\n",
    "median_round_m2"
   ]
  },
  {
   "cell_type": "markdown",
   "id": "6f01992a",
   "metadata": {},
   "source": [
    "### Análisis exploratorio y visualización"
   ]
  },
  {
   "cell_type": "code",
   "execution_count": 23,
   "id": "e71a09e5",
   "metadata": {},
   "outputs": [],
   "source": [
    "import seaborn as sns\n",
    "import matplotlib.pyplot as plt\n",
    "%matplotlib inline"
   ]
  },
  {
   "cell_type": "markdown",
   "id": "4321ea5e",
   "metadata": {},
   "source": [
    "* **Una variable categórica (Distrito o Barrio)**"
   ]
  },
  {
   "cell_type": "code",
   "execution_count": 24,
   "id": "005bf084",
   "metadata": {
    "run_control": {
     "marked": false
    }
   },
   "outputs": [
    {
     "data": {
      "image/png": "[encoded data removed]",
      "text/plain": [
       "<Figure size 432x288 with 1 Axes>"
      ]
     },
     "metadata": {},
     "output_type": "display_data"
    }
   ],
   "source": [
    "# Número de distritos en Barcelona\n",
    "sns.set(style=\"darkgrid\")\n",
    "\n",
    "ax= sns.barplot(x=districtos.index, y=districtos)\n",
    "\n",
    "plt.xticks(rotation=75)\n",
    "plt.title(\"Número de Distritos en Barcelona\", fontsize = 16)\n",
    "ax.set_ylabel(\"Frecuencia\")\n",
    "\n",
    "plt.savefig('Número_Distritos.jpg', dpi=300, bbox_inches='tight') \n",
    "\n",
    "plt.show()"
   ]
  },
  {
   "cell_type": "markdown",
   "id": "e138f58e",
   "metadata": {},
   "source": [
    "Los distritos con mayor registros son Nou Barris, Horta-Guarnidó y Sant Martí, representando el 46% de la información registrada."
   ]
  },
  {
   "cell_type": "markdown",
   "id": "9dbe53ea",
   "metadata": {},
   "source": [
    "* **Una variable numérica (Precio)**"
   ]
  },
  {
   "cell_type": "code",
   "execution_count": 25,
   "id": "65d961b8",
   "metadata": {},
   "outputs": [
    {
     "data": {
      "image/png": "[encoded data removed]",
      "text/plain": [
       "<Figure size 432x288 with 1 Axes>"
      ]
     },
     "metadata": {},
     "output_type": "display_data"
    }
   ],
   "source": [
    "# Precio por mensual (Euros/mes) en Barcelona\n",
    "sns.set(style=\"darkgrid\")\n",
    "\n",
    "ax= sns.boxplot(x=\"Preu\", data=alquiler_Data[alquiler_Data.Lloguer_mitja == 'Lloguer mitjà mensual (Euros/mes)'],  \n",
    "                color='green', fliersize=5, linewidth=1 , width=0.3)\n",
    "ax= sns.swarmplot(x=\"Preu\", data=alquiler_Data[alquiler_Data.Lloguer_mitja == 'Lloguer mitjà mensual (Euros/mes)'],  \n",
    "                color='green', alpha = 0.6)\n",
    "\n",
    "#graficar la media y mediana en el gráfico\n",
    "ax.axvline(x=media_round, linewidth=2, color='g', label=\"mean\", alpha=0.6,ls='--')\n",
    "ax.axvline(x=median_round, linewidth=2, color='g', label=\"median\", alpha=0.6,ls='-')\n",
    "\n",
    "plt.title(\"Alquiler medio mensual (Euros/mes) en Barcelona\", fontsize = 16)\n",
    "ax.set_xlabel(\"Precio (Euros/mes)\")\n",
    "\n",
    "plt.savefig('Alquiler_mensual.jpg', dpi=300, bbox_inches='tight') \n",
    "\n",
    "plt.show()"
   ]
  },
  {
   "cell_type": "markdown",
   "id": "99372c6c",
   "metadata": {},
   "source": [
    "**Observaciones:** Este gráfico muestra el precio de alquiler medio-mensual (Euros/mes) en Barcelona. \n",
    "* Se puede observar que existe una asimetría  sesgada a la izquierda, debido que el valor de la media es la inferior al valor de la mediana. \n",
    "* La parte izquierda de la caja es menor que la de la derecha, lo que indica que los alquileres estan comprendidos entre el 50% y el 75% de la muestra.\n",
    "* Se pueden observa los valores atípicos en los alquileres, que se encuentran por encima del límite superior."
   ]
  },
  {
   "cell_type": "code",
   "execution_count": 26,
   "id": "67858a92",
   "metadata": {},
   "outputs": [
    {
     "data": {
      "image/png": "[encoded data removed]",
      "text/plain": [
       "<Figure size 432x288 with 1 Axes>"
      ]
     },
     "metadata": {},
     "output_type": "display_data"
    }
   ],
   "source": [
    "# Precio por superficie (Euros/m2 mes) en Barcelona\n",
    "sns.set(style=\"darkgrid\")\n",
    "\n",
    "ax= sns.boxplot(x=\"Preu\", data=alquiler_Data[alquiler_Data.Lloguer_mitja == 'Lloguer mitjà per superfície (Euros/m2 mes)'], \n",
    "            color='blue', fliersize=5,  linewidth=1 , width=0.3)\n",
    "ax= sns.swarmplot(x=\"Preu\", data=alquiler_Data[alquiler_Data.Lloguer_mitja == 'Lloguer mitjà per superfície (Euros/m2 mes)'],  \n",
    "                color='blue', alpha = 0.6)\n",
    "\n",
    "#graficar la media y mediana en el gráfico\n",
    "ax.axvline(x=mean_m2_round, linewidth=2, color='b', label=\"mean\", alpha=0.6,ls='--')\n",
    "ax.axvline(x=median_round_m2, linewidth=2, color='b', label=\"median\", alpha=0.6,ls='-')\n",
    "\n",
    "plt.title(\"Alquiler medio por superficie (Euros/m2 mes) en Barcelona\", fontsize = 16)\n",
    "ax.set_xlabel(\"Precio (Euros/m2 mes)\")\n",
    "\n",
    "plt.savefig('Alquiler_superficie.jpg', dpi=300, bbox_inches='tight')\n",
    "\n",
    "plt.show()"
   ]
  },
  {
   "cell_type": "markdown",
   "id": "58ee7ed0",
   "metadata": {},
   "source": [
    "**Observaciones:** Este gráfico muestra el precio de alquiler por superficie (Euros/m2 mes)  en Barcelona. \n",
    "* En este grafico se puede observar que el valor de la media y la mediana son iguales, por lo que se infirere que es una distribución es simétrica. \n",
    "* La parte izquierda de la caja es levemente mayor que la de la derecha, lo que indica que los alquileres por m2 estan comprendidos entre el 25% y el 50% de la muestra."
   ]
  },
  {
   "cell_type": "markdown",
   "id": "0baa1ac3",
   "metadata": {},
   "source": [
    "* **Una variable numérica y una categórica (Distrito y Precio)**"
   ]
  },
  {
   "cell_type": "code",
   "execution_count": 27,
   "id": "14ac12cd",
   "metadata": {},
   "outputs": [
    {
     "data": {
      "image/png": "[encoded data removed]",
      "text/plain": [
       "<Figure size 360x360 with 1 Axes>"
      ]
     },
     "metadata": {},
     "output_type": "display_data"
    }
   ],
   "source": [
    "# Precio por superficie (Euros/m2 mes) y districto en Barcelona\n",
    "sns.set(style=\"darkgrid\")\n",
    "\n",
    "ax = sns.catplot(x='Nom_Districte', y='Preu', kind='box',\n",
    "                 data=alquiler_Data[alquiler_Data.Lloguer_mitja == 'Lloguer mitjà mensual (Euros/mes)'],\n",
    "                 palette= \"viridis\")\n",
    "\n",
    "plt.xticks(rotation=80)\n",
    "ax.set(xlabel=\"Distritos\", ylabel=\"Precio\")\n",
    "plt.title('Alquiler medio por superficie (Euros/m2 mes) en Barcelona', fontsize = 16)\n",
    "\n",
    "plt.savefig('Alquiler_Precio_Dsitrito.jpg', dpi=300, bbox_inches='tight')\n",
    "\n",
    "plt.show()"
   ]
  },
  {
   "cell_type": "markdown",
   "id": "a3d8e0cb",
   "metadata": {},
   "source": [
    "En este gráfico se observan:\n",
    "\n",
    "* Los precios de alquiler promedio mensuales por distrito. \n",
    "* Los datos se concentran en la parte inferior de la distribución.\n",
    "* La media suele ser mayor que la mediana.\n",
    "* A excepción de los distritos Sarrià-Sant Gervasi y Les Corts, los distritos se encuentran en la media de los alquileres. \n",
    "* Los distritos con alquileres más altos son los de Sarrià-Sant Gervasi y Les Corts, sin embago en este último se observa asimetria positiva, ya que se encuentra por encima de la mediana la parte más larga de la caja. "
   ]
  },
  {
   "cell_type": "markdown",
   "id": "bab919d5",
   "metadata": {},
   "source": [
    "* **Dos variables numéricas (Año o Trimestre y Precio)**"
   ]
  },
  {
   "cell_type": "code",
   "execution_count": 28,
   "id": "4bc6d307",
   "metadata": {
    "scrolled": true
   },
   "outputs": [
    {
     "data": {
      "image/png": "[encoded data removed]",
      "text/plain": [
       "<Figure size 432x288 with 1 Axes>"
      ]
     },
     "metadata": {},
     "output_type": "display_data"
    }
   ],
   "source": [
    "sns.set(style=\"darkgrid\")\n",
    "\n",
    "ax = sns.stripplot(x='Trimestre', y='Preu', data=alquiler_Data[alquiler_Data.Lloguer_mitja == 'Lloguer mitjà per superfície (Euros/m2 mes)'], \n",
    "                   orient='v', color='darkblue', alpha= 0.5)\n",
    "\n",
    "plt.title(\"Alquiler medio por superficie (Euros/m2 mes) en Barcelona\", fontsize = 16)\n",
    "ax.set(xlabel=\"Trimestre\", ylabel=\"Precio\")\n",
    "\n",
    "plt.savefig('Alquiler_Trimestre_Precio.jpg', dpi=300, bbox_inches='tight')\n",
    "\n",
    "plt.show()"
   ]
  },
  {
   "cell_type": "markdown",
   "id": "2df2a96d",
   "metadata": {},
   "source": [
    "Este gráfico muestra la variación del precio de los alquileres por metros cuadrados en función de los trimestres y los distritos. Se puede observar puntos menos dispersos en la parte media del gráfico y en los trimestres 1 y 3 una mayor dispersion en la arte superior del grafico. "
   ]
  },
  {
   "cell_type": "markdown",
   "id": "0373444e",
   "metadata": {},
   "source": [
    "* **Tres variables (Distrito, Trimestre y Precio)**"
   ]
  },
  {
   "cell_type": "code",
   "execution_count": 29,
   "id": "7b544367",
   "metadata": {},
   "outputs": [
    {
     "data": {
      "image/png": "[encoded data removed]",
      "text/plain": [
       "<Figure size 496.725x360 with 1 Axes>"
      ]
     },
     "metadata": {},
     "output_type": "display_data"
    }
   ],
   "source": [
    "sns.set(style=\"darkgrid\")\n",
    "\n",
    "ax= sns.relplot(x=\"Trimestre\", y=\"Preu\", \n",
    "            data=alquiler_Data[alquiler_Data.Lloguer_mitja == 'Lloguer mitjà per superfície (Euros/m2 mes)'], kind=\"line\", \n",
    "            ci=None, style=\"Nom_Districte\", hue=\"Nom_Districte\", markers=True, dashes=False)\n",
    "\n",
    "plt.title(\"Alquiler medio por superficie (Euros/m2 mes) en Barcelona\", fontsize = 16)\n",
    "ax.set(xlabel=\"Trimestre\", ylabel=\"Precio\")\n",
    "\n",
    "plt.savefig('Distrito_Trim_Precio.jpg', dpi=300, bbox_inches='tight')\n",
    "\n",
    "plt.show()"
   ]
  },
  {
   "cell_type": "markdown",
   "id": "98bc64c0",
   "metadata": {},
   "source": [
    "Este gráfico muestra la variación del precio de los alquileres por metros cuadrados en función de los trimestres y los distritos. Se puede observar que en la mayoria de los distritos se detecto un leve incremento en el precio mensual, en el tercer y cuarto trimestre, por lo que se infiere que en los meses de festivos tienden a incrementar los valores de alquileres."
   ]
  },
  {
   "cell_type": "markdown",
   "id": "18df9393",
   "metadata": {},
   "source": [
    "## Ejercicio N°2"
   ]
  },
  {
   "cell_type": "markdown",
   "id": "785966db",
   "metadata": {},
   "source": [
    "Exporta los gráficos como imágenes o HTML. **(Se exportaron durante la elaboración de la gráfica)**"
   ]
  },
  {
   "cell_type": "markdown",
   "id": "92c14350",
   "metadata": {},
   "source": [
    "## 1.3 Ejercicios N°3"
   ]
  },
  {
   "cell_type": "markdown",
   "id": "2fdbd954",
   "metadata": {},
   "source": [
    "Propone alguna visualización que creas que puede resultar interesante."
   ]
  },
  {
   "cell_type": "markdown",
   "id": "61d41f1c",
   "metadata": {},
   "source": [
    "* **Los Distrito con el máximo alquiler mensual**"
   ]
  },
  {
   "cell_type": "code",
   "execution_count": 30,
   "id": "adf9329a",
   "metadata": {},
   "outputs": [
    {
     "data": {
      "text/html": [
       "<div>\n",
       "<style scoped>\n",
       "    .dataframe tbody tr th:only-of-type {\n",
       "        vertical-align: middle;\n",
       "    }\n",
       "\n",
       "    .dataframe tbody tr th {\n",
       "        vertical-align: top;\n",
       "    }\n",
       "\n",
       "    .dataframe thead th {\n",
       "        text-align: right;\n",
       "    }\n",
       "</style>\n",
       "<table border=\"1\" class=\"dataframe\">\n",
       "  <thead>\n",
       "    <tr style=\"text-align: right;\">\n",
       "      <th></th>\n",
       "      <th>Nom_Districte</th>\n",
       "      <th>Preu</th>\n",
       "    </tr>\n",
       "  </thead>\n",
       "  <tbody>\n",
       "    <tr>\n",
       "      <th>0</th>\n",
       "      <td>Ciutat Vella</td>\n",
       "      <td>968.4</td>\n",
       "    </tr>\n",
       "    <tr>\n",
       "      <th>1</th>\n",
       "      <td>Eixample</td>\n",
       "      <td>1220.8</td>\n",
       "    </tr>\n",
       "    <tr>\n",
       "      <th>2</th>\n",
       "      <td>Gràcia</td>\n",
       "      <td>961.0</td>\n",
       "    </tr>\n",
       "    <tr>\n",
       "      <th>3</th>\n",
       "      <td>Horta-Guinardó</td>\n",
       "      <td>884.2</td>\n",
       "    </tr>\n",
       "    <tr>\n",
       "      <th>4</th>\n",
       "      <td>Les Corts</td>\n",
       "      <td>1816.5</td>\n",
       "    </tr>\n",
       "    <tr>\n",
       "      <th>5</th>\n",
       "      <td>Nou Barris</td>\n",
       "      <td>803.7</td>\n",
       "    </tr>\n",
       "    <tr>\n",
       "      <th>6</th>\n",
       "      <td>Sant Andreu</td>\n",
       "      <td>827.2</td>\n",
       "    </tr>\n",
       "    <tr>\n",
       "      <th>7</th>\n",
       "      <td>Sant Martí</td>\n",
       "      <td>1364.7</td>\n",
       "    </tr>\n",
       "    <tr>\n",
       "      <th>8</th>\n",
       "      <td>Sants-Montjuïc</td>\n",
       "      <td>872.5</td>\n",
       "    </tr>\n",
       "    <tr>\n",
       "      <th>9</th>\n",
       "      <td>Sarrià-Sant Gervasi</td>\n",
       "      <td>1597.4</td>\n",
       "    </tr>\n",
       "  </tbody>\n",
       "</table>\n",
       "</div>"
      ],
      "text/plain": [
       "         Nom_Districte    Preu\n",
       "0         Ciutat Vella   968.4\n",
       "1             Eixample  1220.8\n",
       "2               Gràcia   961.0\n",
       "3       Horta-Guinardó   884.2\n",
       "4            Les Corts  1816.5\n",
       "5           Nou Barris   803.7\n",
       "6          Sant Andreu   827.2\n",
       "7           Sant Martí  1364.7\n",
       "8       Sants-Montjuïc   872.5\n",
       "9  Sarrià-Sant Gervasi  1597.4"
      ]
     },
     "execution_count": 30,
     "metadata": {},
     "output_type": "execute_result"
    }
   ],
   "source": [
    "#Los Distrito con el máximo alquiler mensual\n",
    "\n",
    "maximo = alquiler_Data[alquiler_Data.Lloguer_mitja == 'Lloguer mitjà mensual (Euros/mes)'].groupby(['Nom_Districte'])['Preu'].max('Preu').reset_index()\n",
    "maximo"
   ]
  },
  {
   "cell_type": "code",
   "execution_count": 31,
   "id": "5e9c3faf",
   "metadata": {
    "run_control": {
     "marked": true
    }
   },
   "outputs": [
    {
     "data": {
      "image/png": "[encoded data removed]",
      "text/plain": [
       "<Figure size 432x288 with 1 Axes>"
      ]
     },
     "metadata": {},
     "output_type": "display_data"
    }
   ],
   "source": [
    "#El Distrito con el máximo alquiler mensual\n",
    "\n",
    "sns.set(style=\"darkgrid\")\n",
    "\n",
    "sns.barplot(x=\"Nom_Districte\", y=\"Preu\", data = maximo.sort_values('Preu', ascending=False) )\n",
    "\n",
    "plt.xticks(rotation=90)\n",
    "plt.title('Alquiler mensual máximo por Distrito en Barcelona', fontsize = 16)\n",
    "\n",
    "plt.savefig('Alquiler_max_distrito.jpg', dpi=300, bbox_inches='tight')\n",
    "\n",
    "plt.show()"
   ]
  },
  {
   "cell_type": "markdown",
   "id": "4142bd74",
   "metadata": {},
   "source": [
    "Los distritos como los alquileres más altos son Les Corts y Sarriat-Sant Gervasi con 1816.5 Euros y 1597.4 Euros respectivamente, quienes se encuentran por encima de media de 876 Euros/mes. Sin embargo es importante resaltar, que solo representan un 12% de los registros del dataset."
   ]
  },
  {
   "cell_type": "markdown",
   "id": "586fbb87",
   "metadata": {},
   "source": [
    "* **Los barrios con el maximo alquiler mensual :** Los alquileres más altos estan registrados en Les Corts y Sarriat-Sant Gervasi, se precedió a identificar cual son los barrio más costoso para alquilar\n"
   ]
  },
  {
   "cell_type": "code",
   "execution_count": 33,
   "id": "25155e99",
   "metadata": {},
   "outputs": [
    {
     "data": {
      "text/html": [
       "<div>\n",
       "<style scoped>\n",
       "    .dataframe tbody tr th:only-of-type {\n",
       "        vertical-align: middle;\n",
       "    }\n",
       "\n",
       "    .dataframe tbody tr th {\n",
       "        vertical-align: top;\n",
       "    }\n",
       "\n",
       "    .dataframe thead th {\n",
       "        text-align: right;\n",
       "    }\n",
       "</style>\n",
       "<table border=\"1\" class=\"dataframe\">\n",
       "  <thead>\n",
       "    <tr style=\"text-align: right;\">\n",
       "      <th></th>\n",
       "      <th>Nom_Barri</th>\n",
       "      <th>Preu</th>\n",
       "    </tr>\n",
       "  </thead>\n",
       "  <tbody>\n",
       "    <tr>\n",
       "      <th>0</th>\n",
       "      <td>Pedralbes</td>\n",
       "      <td>1816.5</td>\n",
       "    </tr>\n",
       "    <tr>\n",
       "      <th>1</th>\n",
       "      <td>la Maternitat i Sant Ramon</td>\n",
       "      <td>982.9</td>\n",
       "    </tr>\n",
       "    <tr>\n",
       "      <th>2</th>\n",
       "      <td>les Corts</td>\n",
       "      <td>1052.8</td>\n",
       "    </tr>\n",
       "  </tbody>\n",
       "</table>\n",
       "</div>"
      ],
      "text/plain": [
       "                    Nom_Barri    Preu\n",
       "0                   Pedralbes  1816.5\n",
       "1  la Maternitat i Sant Ramon   982.9\n",
       "2                   les Corts  1052.8"
      ]
     },
     "execution_count": 33,
     "metadata": {},
     "output_type": "execute_result"
    }
   ],
   "source": [
    "# El barrio con el maximo alquiler mensual del Distrito Les Corts\n",
    "\n",
    "barrio_LesCorts = alquiler_Data[((alquiler_Data.Lloguer_mitja == 'Lloguer mitjà mensual (Euros/mes)') & \n",
    "                                 (alquiler_Data.Nom_Districte == 'Les Corts'))].groupby(['Nom_Barri'])['Preu'].max('Preu').reset_index()\n",
    "\n",
    "barrio_LesCorts"
   ]
  },
  {
   "cell_type": "code",
   "execution_count": 34,
   "id": "8676a34a",
   "metadata": {},
   "outputs": [
    {
     "data": {
      "image/png": "[encoded data removed]",
      "text/plain": [
       "<Figure size 432x288 with 1 Axes>"
      ]
     },
     "metadata": {},
     "output_type": "display_data"
    }
   ],
   "source": [
    "#El barrio con el maximo alquiler mensual del Distrito Les Corts\n",
    "\n",
    "sns.set(style=\"darkgrid\")\n",
    "\n",
    "sns.barplot(x=\"Nom_Barri\", y=\"Preu\", data = barrio_LesCorts.sort_values('Preu', ascending=False) )\n",
    "\n",
    "plt.xticks(rotation=90)\n",
    "plt.title('Alquiler mensual(Euros/mes) máximo por barrio Les Corts', fontsize = 16)\n",
    "\n",
    "plt.savefig('Alquiler_max_lescosrts.jpg', dpi=300, bbox_inches='tight')\n",
    "\n",
    "plt.show()"
   ]
  },
  {
   "cell_type": "code",
   "execution_count": 35,
   "id": "bd211d51",
   "metadata": {},
   "outputs": [
    {
     "data": {
      "text/html": [
       "<div>\n",
       "<style scoped>\n",
       "    .dataframe tbody tr th:only-of-type {\n",
       "        vertical-align: middle;\n",
       "    }\n",
       "\n",
       "    .dataframe tbody tr th {\n",
       "        vertical-align: top;\n",
       "    }\n",
       "\n",
       "    .dataframe thead th {\n",
       "        text-align: right;\n",
       "    }\n",
       "</style>\n",
       "<table border=\"1\" class=\"dataframe\">\n",
       "  <thead>\n",
       "    <tr style=\"text-align: right;\">\n",
       "      <th></th>\n",
       "      <th>Nom_Barri</th>\n",
       "      <th>Preu</th>\n",
       "    </tr>\n",
       "  </thead>\n",
       "  <tbody>\n",
       "    <tr>\n",
       "      <th>0</th>\n",
       "      <td>Sant Gervasi - Galvany</td>\n",
       "      <td>1433.7</td>\n",
       "    </tr>\n",
       "    <tr>\n",
       "      <th>1</th>\n",
       "      <td>Sant Gervasi - la Bonanova</td>\n",
       "      <td>1264.8</td>\n",
       "    </tr>\n",
       "    <tr>\n",
       "      <th>2</th>\n",
       "      <td>Sarrià</td>\n",
       "      <td>1345.2</td>\n",
       "    </tr>\n",
       "    <tr>\n",
       "      <th>3</th>\n",
       "      <td>Vallvidrera, el Tibidabo i les Planes</td>\n",
       "      <td>1531.7</td>\n",
       "    </tr>\n",
       "    <tr>\n",
       "      <th>4</th>\n",
       "      <td>el Putxet i el Farró</td>\n",
       "      <td>1024.4</td>\n",
       "    </tr>\n",
       "    <tr>\n",
       "      <th>5</th>\n",
       "      <td>les Tres Torres</td>\n",
       "      <td>1597.4</td>\n",
       "    </tr>\n",
       "  </tbody>\n",
       "</table>\n",
       "</div>"
      ],
      "text/plain": [
       "                               Nom_Barri    Preu\n",
       "0                 Sant Gervasi - Galvany  1433.7\n",
       "1             Sant Gervasi - la Bonanova  1264.8\n",
       "2                                 Sarrià  1345.2\n",
       "3  Vallvidrera, el Tibidabo i les Planes  1531.7\n",
       "4                   el Putxet i el Farró  1024.4\n",
       "5                        les Tres Torres  1597.4"
      ]
     },
     "execution_count": 35,
     "metadata": {},
     "output_type": "execute_result"
    }
   ],
   "source": [
    "# El barrio con el maximo alquiler mensual del Distrito Les Corts\n",
    "\n",
    "barrio_Sarria = alquiler_Data[((alquiler_Data.Lloguer_mitja == 'Lloguer mitjà mensual (Euros/mes)') & \n",
    "                                 (alquiler_Data.Nom_Districte == 'Sarrià-Sant Gervasi'))].groupby(['Nom_Barri'])['Preu'].max('Preu').reset_index()\n",
    "\n",
    "barrio_Sarria"
   ]
  },
  {
   "cell_type": "code",
   "execution_count": 36,
   "id": "6fdc92df",
   "metadata": {},
   "outputs": [
    {
     "data": {
      "image/png": "[encoded data removed]",
      "text/plain": [
       "<Figure size 432x288 with 1 Axes>"
      ]
     },
     "metadata": {},
     "output_type": "display_data"
    }
   ],
   "source": [
    "sns.set(style=\"darkgrid\")\n",
    "\n",
    "sns.barplot(x=\"Nom_Barri\", y=\"Preu\", data = barrio_Sarria.sort_values('Preu', ascending=False) )\n",
    "\n",
    "plt.xticks(rotation=90)\n",
    "plt.title('Alquiler mensual(Euros/mes) máximo por barrio Sarrià-Sant Gervasi', fontsize = 16)\n",
    "\n",
    "plt.savefig('Alquiler_max_Sarria.jpg', dpi=300, bbox_inches='tight')\n",
    "\n",
    "plt.show()"
   ]
  },
  {
   "cell_type": "markdown",
   "id": "5afffacd",
   "metadata": {},
   "source": [
    "Los alquileres más altos estan registrados el distrito Les Corts, seguido de Sarriat-Sant Gervasi, sin embargo el distrito Les Corts solo tiene dos barrios muy encima de los valores medios de alquiler de los 3 barrios registrados. Por otro lado, el distrito Sarriat-Sant Gervasi tiene todos sus barrios (en el registro se muestran 6 barrios)  muy por encima de los valores medios de alquiler mensual en Barcelona, por lo que se infiere alguún valor atipico en el distirto Les Corts, en este sentido el Distrito Sarriat-Sant Gervasi se pudiera inferir como el distrito más costosos para alquilar. "
   ]
  }
 ],
 "metadata": {
  "kernelspec": {
   "display_name": "Python 3 (ipykernel)",
   "language": "python",
   "name": "python3"
  },
  "language_info": {
   "codemirror_mode": {
    "name": "ipython",
    "version": 3
   },
   "file_extension": ".py",
   "mimetype": "text/x-python",
   "name": "python",
   "nbconvert_exporter": "python",
   "pygments_lexer": "ipython3",
   "version": "3.9.12"
  },
  "nbTranslate": {
   "displayLangs": [
    "*"
   ],
   "hotkey": "alt-t",
   "langInMainMenu": true,
   "sourceLang": "en",
   "targetLang": "fr",
   "useGoogleTranslate": true
  },
  "toc": {
   "base_numbering": 1,
   "nav_menu": {},
   "number_sections": true,
   "sideBar": true,
   "skip_h1_title": false,
   "title_cell": "Table of Contents",
   "title_sidebar": "Contents",
   "toc_cell": false,
   "toc_position": {},
   "toc_section_display": true,
   "toc_window_display": false
  },
  "varInspector": {
   "cols": {
    "lenName": 16,
    "lenType": 16,
    "lenVar": 40
   },
   "kernels_config": {
    "python": {
     "delete_cmd_postfix": "",
     "delete_cmd_prefix": "del ",
     "library": "var_list.py",
     "varRefreshCmd": "print(var_dic_list())"
    },
    "r": {
     "delete_cmd_postfix": ") ",
     "delete_cmd_prefix": "rm(",
     "library": "var_list.r",
     "varRefreshCmd": "cat(var_dic_list()) "
    }
   },
   "types_to_exclude": [
    "module",
    "function",
    "builtin_function_or_method",
    "instance",
    "_Feature"
   ],
   "window_display": false
  }
 },
 "nbformat": 4,
 "nbformat_minor": 5
}
