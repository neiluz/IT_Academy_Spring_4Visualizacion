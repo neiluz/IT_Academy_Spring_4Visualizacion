{
 "cells": [
  {
   "cell_type": "markdown",
   "id": "b41699da",
   "metadata": {},
   "source": [
    "# Spring N°4 - Tarea 02: Ejercicios 02 y 03"
   ]
  },
  {
   "cell_type": "markdown",
   "id": "8fae8249",
   "metadata": {},
   "source": [
    "Realizar visualizaciones gráfica de múltiples variables."
   ]
  },
  {
   "cell_type": "markdown",
   "id": "133c8eac",
   "metadata": {},
   "source": [
    "## Ejercicio N°2"
   ]
  },
  {
   "cell_type": "markdown",
   "id": "dce94ef7",
   "metadata": {},
   "source": [
    "Realizar las tareas de preprocesado y adecuación del Dataset que disponemos en el repositorio de GitHub  PRE-PROCESSING-FECHA con el objetivo de prepararlo y trabajarlo como dataframe para extraer información.\n",
    "* Link: https://github.com/BIDDL3/PRE-PROCESSING-DATA/blob/main/movies.dat \n",
    "* El objetivo: Un dataframe con las variables de nombre de la película , año y género (quedarse con un solo género para cada película)"
   ]
  },
  {
   "cell_type": "markdown",
   "id": "ee340dda",
   "metadata": {},
   "source": [
    "### Preparación de la data"
   ]
  },
  {
   "cell_type": "code",
   "execution_count": 1,
   "id": "5c8ce328",
   "metadata": {},
   "outputs": [],
   "source": [
    "import pandas as pd\n",
    "import numpy as np"
   ]
  },
  {
   "cell_type": "code",
   "execution_count": 2,
   "id": "fa239dd8",
   "metadata": {},
   "outputs": [
    {
     "data": {
      "text/html": [
       "<div>\n",
       "<style scoped>\n",
       "    .dataframe tbody tr th:only-of-type {\n",
       "        vertical-align: middle;\n",
       "    }\n",
       "\n",
       "    .dataframe tbody tr th {\n",
       "        vertical-align: top;\n",
       "    }\n",
       "\n",
       "    .dataframe thead th {\n",
       "        text-align: right;\n",
       "    }\n",
       "</style>\n",
       "<table border=\"1\" class=\"dataframe\">\n",
       "  <thead>\n",
       "    <tr style=\"text-align: right;\">\n",
       "      <th></th>\n",
       "      <th>ID</th>\n",
       "      <th>Title</th>\n",
       "      <th>Genre</th>\n",
       "    </tr>\n",
       "  </thead>\n",
       "  <tbody>\n",
       "    <tr>\n",
       "      <th>0</th>\n",
       "      <td>1</td>\n",
       "      <td>Toy Story (1995)</td>\n",
       "      <td>Animation|Children's|Comedy</td>\n",
       "    </tr>\n",
       "    <tr>\n",
       "      <th>1</th>\n",
       "      <td>2</td>\n",
       "      <td>Jumanji (1995)</td>\n",
       "      <td>Adventure|Children's|Fantasy</td>\n",
       "    </tr>\n",
       "    <tr>\n",
       "      <th>2</th>\n",
       "      <td>3</td>\n",
       "      <td>Grumpier Old Men (1995)</td>\n",
       "      <td>Comedy|Romance</td>\n",
       "    </tr>\n",
       "    <tr>\n",
       "      <th>3</th>\n",
       "      <td>4</td>\n",
       "      <td>Waiting to Exhale (1995)</td>\n",
       "      <td>Comedy|Drama</td>\n",
       "    </tr>\n",
       "    <tr>\n",
       "      <th>4</th>\n",
       "      <td>5</td>\n",
       "      <td>Father of the Bride Part II (1995)</td>\n",
       "      <td>Comedy</td>\n",
       "    </tr>\n",
       "    <tr>\n",
       "      <th>...</th>\n",
       "      <td>...</td>\n",
       "      <td>...</td>\n",
       "      <td>...</td>\n",
       "    </tr>\n",
       "    <tr>\n",
       "      <th>3878</th>\n",
       "      <td>3948</td>\n",
       "      <td>Meet the Parents (2000)</td>\n",
       "      <td>Comedy</td>\n",
       "    </tr>\n",
       "    <tr>\n",
       "      <th>3879</th>\n",
       "      <td>3949</td>\n",
       "      <td>Requiem for a Dream (2000)</td>\n",
       "      <td>Drama</td>\n",
       "    </tr>\n",
       "    <tr>\n",
       "      <th>3880</th>\n",
       "      <td>3950</td>\n",
       "      <td>Tigerland (2000)</td>\n",
       "      <td>Drama</td>\n",
       "    </tr>\n",
       "    <tr>\n",
       "      <th>3881</th>\n",
       "      <td>3951</td>\n",
       "      <td>Two Family House (2000)</td>\n",
       "      <td>Drama</td>\n",
       "    </tr>\n",
       "    <tr>\n",
       "      <th>3882</th>\n",
       "      <td>3952</td>\n",
       "      <td>Contender, The (2000)</td>\n",
       "      <td>Drama|Thriller</td>\n",
       "    </tr>\n",
       "  </tbody>\n",
       "</table>\n",
       "<p>3883 rows × 3 columns</p>\n",
       "</div>"
      ],
      "text/plain": [
       "        ID                               Title                         Genre\n",
       "0        1                    Toy Story (1995)   Animation|Children's|Comedy\n",
       "1        2                      Jumanji (1995)  Adventure|Children's|Fantasy\n",
       "2        3             Grumpier Old Men (1995)                Comedy|Romance\n",
       "3        4            Waiting to Exhale (1995)                  Comedy|Drama\n",
       "4        5  Father of the Bride Part II (1995)                        Comedy\n",
       "...    ...                                 ...                           ...\n",
       "3878  3948             Meet the Parents (2000)                        Comedy\n",
       "3879  3949          Requiem for a Dream (2000)                         Drama\n",
       "3880  3950                    Tigerland (2000)                         Drama\n",
       "3881  3951             Two Family House (2000)                         Drama\n",
       "3882  3952               Contender, The (2000)                Drama|Thriller\n",
       "\n",
       "[3883 rows x 3 columns]"
      ]
     },
     "execution_count": 2,
     "metadata": {},
     "output_type": "execute_result"
    }
   ],
   "source": [
    "column_names = ['ID', 'Title', 'Genre']\n",
    "data_movies = pd.read_table('movies.dat', header = None, sep = \"::\", names= column_names, engine = 'python', \n",
    "                            encoding = \"ISO-8859-1\")\n",
    "data_movies"
   ]
  },
  {
   "cell_type": "code",
   "execution_count": 3,
   "id": "edfe2ec9",
   "metadata": {},
   "outputs": [
    {
     "name": "stdout",
     "output_type": "stream",
     "text": [
      "<class 'pandas.core.frame.DataFrame'>\n",
      "RangeIndex: 3883 entries, 0 to 3882\n",
      "Data columns (total 3 columns):\n",
      " #   Column  Non-Null Count  Dtype \n",
      "---  ------  --------------  ----- \n",
      " 0   ID      3883 non-null   int64 \n",
      " 1   Title   3883 non-null   object\n",
      " 2   Genre   3883 non-null   object\n",
      "dtypes: int64(1), object(2)\n",
      "memory usage: 91.1+ KB\n"
     ]
    }
   ],
   "source": [
    "data_movies.info()"
   ]
  },
  {
   "cell_type": "markdown",
   "id": "3e1b2282",
   "metadata": {},
   "source": [
    "**Observaciones:** \n",
    "* Se puede observar que se tienen 3 columnas: 1 tipo numérica y dos objetos, sin embargo en la columna \"title\" contiene datos del titulo de la peliculas y el año de estreno, por lo que se procederá a crear dos columnas nuevas para alojar los datos titulos y años por separados. \n",
    "* Tambien se puede obervar que algunas películas presentan varios gereros, en vista que el enunciado indican quedarse con un solo genero, se procederá a eliminar los generos sobrantes. \n",
    "* Las variables objetos se procederan a cambiar a categoricas o numericas, de acuerdo al caso, para mejorar la memoria del dataset.\n",
    "* Se verificará si hay valores nulos o NaN, asi como si existen valores duplicados."
   ]
  },
  {
   "cell_type": "markdown",
   "id": "a0d293f5",
   "metadata": {},
   "source": [
    "* **Creación de las columnas Titulo y Año**"
   ]
  },
  {
   "cell_type": "code",
   "execution_count": 4,
   "id": "e64623b6",
   "metadata": {},
   "outputs": [
    {
     "name": "stderr",
     "output_type": "stream",
     "text": [
      "C:\\Users\\Lenovo\\AppData\\Local\\Temp\\ipykernel_9556\\4262438880.py:4: FutureWarning: The default value of regex will change from True to False in a future version.\n",
      "  data_movies['Title'] = data_movies.Title.str.replace('(\\(\\d\\d\\d\\d\\))', '').copy()\n"
     ]
    }
   ],
   "source": [
    "#Creación de la columna año y extrar el valor de la columna titulo\n",
    "data_movies['Year'] = data_movies['Title'].str.extract(r\"\\(([0-9]+)\\)\", expand=False).copy()\n",
    "\n",
    "data_movies['Title'] = data_movies.Title.str.replace('(\\(\\d\\d\\d\\d\\))', '').copy()"
   ]
  },
  {
   "cell_type": "code",
   "execution_count": 5,
   "id": "dd1b0aa9",
   "metadata": {},
   "outputs": [
    {
     "data": {
      "text/html": [
       "<div>\n",
       "<style scoped>\n",
       "    .dataframe tbody tr th:only-of-type {\n",
       "        vertical-align: middle;\n",
       "    }\n",
       "\n",
       "    .dataframe tbody tr th {\n",
       "        vertical-align: top;\n",
       "    }\n",
       "\n",
       "    .dataframe thead th {\n",
       "        text-align: right;\n",
       "    }\n",
       "</style>\n",
       "<table border=\"1\" class=\"dataframe\">\n",
       "  <thead>\n",
       "    <tr style=\"text-align: right;\">\n",
       "      <th></th>\n",
       "      <th>ID</th>\n",
       "      <th>Title</th>\n",
       "      <th>Genre</th>\n",
       "      <th>Year</th>\n",
       "    </tr>\n",
       "  </thead>\n",
       "  <tbody>\n",
       "    <tr>\n",
       "      <th>0</th>\n",
       "      <td>1</td>\n",
       "      <td>Toy Story</td>\n",
       "      <td>Animation|Children's|Comedy</td>\n",
       "      <td>1995</td>\n",
       "    </tr>\n",
       "    <tr>\n",
       "      <th>1</th>\n",
       "      <td>2</td>\n",
       "      <td>Jumanji</td>\n",
       "      <td>Adventure|Children's|Fantasy</td>\n",
       "      <td>1995</td>\n",
       "    </tr>\n",
       "    <tr>\n",
       "      <th>2</th>\n",
       "      <td>3</td>\n",
       "      <td>Grumpier Old Men</td>\n",
       "      <td>Comedy|Romance</td>\n",
       "      <td>1995</td>\n",
       "    </tr>\n",
       "    <tr>\n",
       "      <th>3</th>\n",
       "      <td>4</td>\n",
       "      <td>Waiting to Exhale</td>\n",
       "      <td>Comedy|Drama</td>\n",
       "      <td>1995</td>\n",
       "    </tr>\n",
       "    <tr>\n",
       "      <th>4</th>\n",
       "      <td>5</td>\n",
       "      <td>Father of the Bride Part II</td>\n",
       "      <td>Comedy</td>\n",
       "      <td>1995</td>\n",
       "    </tr>\n",
       "    <tr>\n",
       "      <th>...</th>\n",
       "      <td>...</td>\n",
       "      <td>...</td>\n",
       "      <td>...</td>\n",
       "      <td>...</td>\n",
       "    </tr>\n",
       "    <tr>\n",
       "      <th>3878</th>\n",
       "      <td>3948</td>\n",
       "      <td>Meet the Parents</td>\n",
       "      <td>Comedy</td>\n",
       "      <td>2000</td>\n",
       "    </tr>\n",
       "    <tr>\n",
       "      <th>3879</th>\n",
       "      <td>3949</td>\n",
       "      <td>Requiem for a Dream</td>\n",
       "      <td>Drama</td>\n",
       "      <td>2000</td>\n",
       "    </tr>\n",
       "    <tr>\n",
       "      <th>3880</th>\n",
       "      <td>3950</td>\n",
       "      <td>Tigerland</td>\n",
       "      <td>Drama</td>\n",
       "      <td>2000</td>\n",
       "    </tr>\n",
       "    <tr>\n",
       "      <th>3881</th>\n",
       "      <td>3951</td>\n",
       "      <td>Two Family House</td>\n",
       "      <td>Drama</td>\n",
       "      <td>2000</td>\n",
       "    </tr>\n",
       "    <tr>\n",
       "      <th>3882</th>\n",
       "      <td>3952</td>\n",
       "      <td>Contender, The</td>\n",
       "      <td>Drama|Thriller</td>\n",
       "      <td>2000</td>\n",
       "    </tr>\n",
       "  </tbody>\n",
       "</table>\n",
       "<p>3883 rows × 4 columns</p>\n",
       "</div>"
      ],
      "text/plain": [
       "        ID                         Title                         Genre  Year\n",
       "0        1                    Toy Story    Animation|Children's|Comedy  1995\n",
       "1        2                      Jumanji   Adventure|Children's|Fantasy  1995\n",
       "2        3             Grumpier Old Men                 Comedy|Romance  1995\n",
       "3        4            Waiting to Exhale                   Comedy|Drama  1995\n",
       "4        5  Father of the Bride Part II                         Comedy  1995\n",
       "...    ...                           ...                           ...   ...\n",
       "3878  3948             Meet the Parents                         Comedy  2000\n",
       "3879  3949          Requiem for a Dream                          Drama  2000\n",
       "3880  3950                    Tigerland                          Drama  2000\n",
       "3881  3951             Two Family House                          Drama  2000\n",
       "3882  3952               Contender, The                 Drama|Thriller  2000\n",
       "\n",
       "[3883 rows x 4 columns]"
      ]
     },
     "execution_count": 5,
     "metadata": {},
     "output_type": "execute_result"
    }
   ],
   "source": [
    "data_movies"
   ]
  },
  {
   "cell_type": "markdown",
   "id": "6b08c183",
   "metadata": {},
   "source": [
    "* **Selección del genero**"
   ]
  },
  {
   "cell_type": "code",
   "execution_count": 6,
   "id": "d0bdba74",
   "metadata": {},
   "outputs": [
    {
     "data": {
      "text/html": [
       "<div>\n",
       "<style scoped>\n",
       "    .dataframe tbody tr th:only-of-type {\n",
       "        vertical-align: middle;\n",
       "    }\n",
       "\n",
       "    .dataframe tbody tr th {\n",
       "        vertical-align: top;\n",
       "    }\n",
       "\n",
       "    .dataframe thead th {\n",
       "        text-align: right;\n",
       "    }\n",
       "</style>\n",
       "<table border=\"1\" class=\"dataframe\">\n",
       "  <thead>\n",
       "    <tr style=\"text-align: right;\">\n",
       "      <th></th>\n",
       "      <th>ID</th>\n",
       "      <th>Title</th>\n",
       "      <th>Genre</th>\n",
       "      <th>Year</th>\n",
       "    </tr>\n",
       "  </thead>\n",
       "  <tbody>\n",
       "    <tr>\n",
       "      <th>0</th>\n",
       "      <td>1</td>\n",
       "      <td>Toy Story</td>\n",
       "      <td>[Animation, Children's, Comedy]</td>\n",
       "      <td>1995</td>\n",
       "    </tr>\n",
       "    <tr>\n",
       "      <th>1</th>\n",
       "      <td>2</td>\n",
       "      <td>Jumanji</td>\n",
       "      <td>[Adventure, Children's, Fantasy]</td>\n",
       "      <td>1995</td>\n",
       "    </tr>\n",
       "    <tr>\n",
       "      <th>2</th>\n",
       "      <td>3</td>\n",
       "      <td>Grumpier Old Men</td>\n",
       "      <td>[Comedy, Romance]</td>\n",
       "      <td>1995</td>\n",
       "    </tr>\n",
       "    <tr>\n",
       "      <th>3</th>\n",
       "      <td>4</td>\n",
       "      <td>Waiting to Exhale</td>\n",
       "      <td>[Comedy, Drama]</td>\n",
       "      <td>1995</td>\n",
       "    </tr>\n",
       "    <tr>\n",
       "      <th>4</th>\n",
       "      <td>5</td>\n",
       "      <td>Father of the Bride Part II</td>\n",
       "      <td>[Comedy]</td>\n",
       "      <td>1995</td>\n",
       "    </tr>\n",
       "    <tr>\n",
       "      <th>5</th>\n",
       "      <td>6</td>\n",
       "      <td>Heat</td>\n",
       "      <td>[Action, Crime, Thriller]</td>\n",
       "      <td>1995</td>\n",
       "    </tr>\n",
       "    <tr>\n",
       "      <th>6</th>\n",
       "      <td>7</td>\n",
       "      <td>Sabrina</td>\n",
       "      <td>[Comedy, Romance]</td>\n",
       "      <td>1995</td>\n",
       "    </tr>\n",
       "    <tr>\n",
       "      <th>7</th>\n",
       "      <td>8</td>\n",
       "      <td>Tom and Huck</td>\n",
       "      <td>[Adventure, Children's]</td>\n",
       "      <td>1995</td>\n",
       "    </tr>\n",
       "    <tr>\n",
       "      <th>8</th>\n",
       "      <td>9</td>\n",
       "      <td>Sudden Death</td>\n",
       "      <td>[Action]</td>\n",
       "      <td>1995</td>\n",
       "    </tr>\n",
       "    <tr>\n",
       "      <th>9</th>\n",
       "      <td>10</td>\n",
       "      <td>GoldenEye</td>\n",
       "      <td>[Action, Adventure, Thriller]</td>\n",
       "      <td>1995</td>\n",
       "    </tr>\n",
       "  </tbody>\n",
       "</table>\n",
       "</div>"
      ],
      "text/plain": [
       "   ID                         Title                             Genre  Year\n",
       "0   1                    Toy Story    [Animation, Children's, Comedy]  1995\n",
       "1   2                      Jumanji   [Adventure, Children's, Fantasy]  1995\n",
       "2   3             Grumpier Old Men                  [Comedy, Romance]  1995\n",
       "3   4            Waiting to Exhale                    [Comedy, Drama]  1995\n",
       "4   5  Father of the Bride Part II                           [Comedy]  1995\n",
       "5   6                         Heat          [Action, Crime, Thriller]  1995\n",
       "6   7                      Sabrina                  [Comedy, Romance]  1995\n",
       "7   8                 Tom and Huck            [Adventure, Children's]  1995\n",
       "8   9                 Sudden Death                           [Action]  1995\n",
       "9  10                    GoldenEye      [Action, Adventure, Thriller]  1995"
      ]
     },
     "execution_count": 6,
     "metadata": {},
     "output_type": "execute_result"
    }
   ],
   "source": [
    "data_movies['Genre'] = data_movies.Genre.str.split('|')\n",
    "\n",
    "data_movies.head(10)"
   ]
  },
  {
   "cell_type": "code",
   "execution_count": 7,
   "id": "20fe5d69",
   "metadata": {},
   "outputs": [
    {
     "data": {
      "text/html": [
       "<div>\n",
       "<style scoped>\n",
       "    .dataframe tbody tr th:only-of-type {\n",
       "        vertical-align: middle;\n",
       "    }\n",
       "\n",
       "    .dataframe tbody tr th {\n",
       "        vertical-align: top;\n",
       "    }\n",
       "\n",
       "    .dataframe thead th {\n",
       "        text-align: right;\n",
       "    }\n",
       "</style>\n",
       "<table border=\"1\" class=\"dataframe\">\n",
       "  <thead>\n",
       "    <tr style=\"text-align: right;\">\n",
       "      <th></th>\n",
       "      <th>ID</th>\n",
       "      <th>Title</th>\n",
       "      <th>Genre</th>\n",
       "      <th>Year</th>\n",
       "    </tr>\n",
       "  </thead>\n",
       "  <tbody>\n",
       "    <tr>\n",
       "      <th>0</th>\n",
       "      <td>1</td>\n",
       "      <td>Toy Story</td>\n",
       "      <td>Animation</td>\n",
       "      <td>1995</td>\n",
       "    </tr>\n",
       "    <tr>\n",
       "      <th>1</th>\n",
       "      <td>2</td>\n",
       "      <td>Jumanji</td>\n",
       "      <td>Adventure</td>\n",
       "      <td>1995</td>\n",
       "    </tr>\n",
       "    <tr>\n",
       "      <th>2</th>\n",
       "      <td>3</td>\n",
       "      <td>Grumpier Old Men</td>\n",
       "      <td>Comedy</td>\n",
       "      <td>1995</td>\n",
       "    </tr>\n",
       "    <tr>\n",
       "      <th>3</th>\n",
       "      <td>4</td>\n",
       "      <td>Waiting to Exhale</td>\n",
       "      <td>Comedy</td>\n",
       "      <td>1995</td>\n",
       "    </tr>\n",
       "    <tr>\n",
       "      <th>4</th>\n",
       "      <td>5</td>\n",
       "      <td>Father of the Bride Part II</td>\n",
       "      <td>Comedy</td>\n",
       "      <td>1995</td>\n",
       "    </tr>\n",
       "    <tr>\n",
       "      <th>5</th>\n",
       "      <td>6</td>\n",
       "      <td>Heat</td>\n",
       "      <td>Action</td>\n",
       "      <td>1995</td>\n",
       "    </tr>\n",
       "    <tr>\n",
       "      <th>6</th>\n",
       "      <td>7</td>\n",
       "      <td>Sabrina</td>\n",
       "      <td>Comedy</td>\n",
       "      <td>1995</td>\n",
       "    </tr>\n",
       "    <tr>\n",
       "      <th>7</th>\n",
       "      <td>8</td>\n",
       "      <td>Tom and Huck</td>\n",
       "      <td>Adventure</td>\n",
       "      <td>1995</td>\n",
       "    </tr>\n",
       "    <tr>\n",
       "      <th>8</th>\n",
       "      <td>9</td>\n",
       "      <td>Sudden Death</td>\n",
       "      <td>Action</td>\n",
       "      <td>1995</td>\n",
       "    </tr>\n",
       "    <tr>\n",
       "      <th>9</th>\n",
       "      <td>10</td>\n",
       "      <td>GoldenEye</td>\n",
       "      <td>Action</td>\n",
       "      <td>1995</td>\n",
       "    </tr>\n",
       "  </tbody>\n",
       "</table>\n",
       "</div>"
      ],
      "text/plain": [
       "   ID                         Title      Genre  Year\n",
       "0   1                    Toy Story   Animation  1995\n",
       "1   2                      Jumanji   Adventure  1995\n",
       "2   3             Grumpier Old Men      Comedy  1995\n",
       "3   4            Waiting to Exhale      Comedy  1995\n",
       "4   5  Father of the Bride Part II      Comedy  1995\n",
       "5   6                         Heat      Action  1995\n",
       "6   7                      Sabrina      Comedy  1995\n",
       "7   8                 Tom and Huck   Adventure  1995\n",
       "8   9                 Sudden Death      Action  1995\n",
       "9  10                    GoldenEye      Action  1995"
      ]
     },
     "execution_count": 7,
     "metadata": {},
     "output_type": "execute_result"
    }
   ],
   "source": [
    "data_movies['Genre'] = data_movies.Genre.str[0].str.strip()\n",
    "\n",
    "data_movies.head(10)"
   ]
  },
  {
   "cell_type": "markdown",
   "id": "21525c77",
   "metadata": {},
   "source": [
    "* **Convertir la variable \"Year\" de objeto a numérica**"
   ]
  },
  {
   "cell_type": "code",
   "execution_count": 9,
   "id": "aac18f33",
   "metadata": {},
   "outputs": [],
   "source": [
    "data_movies['Year'] = pd.to_numeric(data_movies['Year'], errors='coerce')"
   ]
  },
  {
   "cell_type": "markdown",
   "id": "37c23bc4",
   "metadata": {},
   "source": [
    "* **Convertir las variables objetos a categoricas.**"
   ]
  },
  {
   "cell_type": "code",
   "execution_count": 10,
   "id": "f870838e",
   "metadata": {},
   "outputs": [
    {
     "data": {
      "text/plain": [
       "ID          int64\n",
       "Title    category\n",
       "Genre    category\n",
       "Year        int64\n",
       "dtype: object"
      ]
     },
     "execution_count": 10,
     "metadata": {},
     "output_type": "execute_result"
    }
   ],
   "source": [
    "tipos = {'Title':'category',\n",
    "         'Genre':'category'}\n",
    "data_movies.astype(tipos).dtypes"
   ]
  },
  {
   "cell_type": "markdown",
   "id": "70159277",
   "metadata": {},
   "source": [
    "* **Chequar valores duplicados**"
   ]
  },
  {
   "cell_type": "code",
   "execution_count": 11,
   "id": "2c60f734",
   "metadata": {},
   "outputs": [
    {
     "data": {
      "text/html": [
       "<div>\n",
       "<style scoped>\n",
       "    .dataframe tbody tr th:only-of-type {\n",
       "        vertical-align: middle;\n",
       "    }\n",
       "\n",
       "    .dataframe tbody tr th {\n",
       "        vertical-align: top;\n",
       "    }\n",
       "\n",
       "    .dataframe thead th {\n",
       "        text-align: right;\n",
       "    }\n",
       "</style>\n",
       "<table border=\"1\" class=\"dataframe\">\n",
       "  <thead>\n",
       "    <tr style=\"text-align: right;\">\n",
       "      <th></th>\n",
       "      <th>ID</th>\n",
       "      <th>Title</th>\n",
       "      <th>Genre</th>\n",
       "      <th>Year</th>\n",
       "    </tr>\n",
       "  </thead>\n",
       "  <tbody>\n",
       "  </tbody>\n",
       "</table>\n",
       "</div>"
      ],
      "text/plain": [
       "Empty DataFrame\n",
       "Columns: [ID, Title, Genre, Year]\n",
       "Index: []"
      ]
     },
     "execution_count": 11,
     "metadata": {},
     "output_type": "execute_result"
    }
   ],
   "source": [
    "data_movies.loc[data_movies.duplicated()]"
   ]
  },
  {
   "cell_type": "markdown",
   "id": "5f737fa8",
   "metadata": {},
   "source": [
    "* **Chequear valores NaN y nulos**"
   ]
  },
  {
   "cell_type": "code",
   "execution_count": 12,
   "id": "1fbb145a",
   "metadata": {},
   "outputs": [
    {
     "data": {
      "text/plain": [
       "ID       0\n",
       "Title    0\n",
       "Genre    0\n",
       "Year     0\n",
       "dtype: int64"
      ]
     },
     "execution_count": 12,
     "metadata": {},
     "output_type": "execute_result"
    }
   ],
   "source": [
    "data_movies.isna().sum().sort_values(ascending = False)"
   ]
  },
  {
   "cell_type": "code",
   "execution_count": 13,
   "id": "acf42dc6",
   "metadata": {},
   "outputs": [
    {
     "data": {
      "text/plain": [
       "ID       0\n",
       "Title    0\n",
       "Genre    0\n",
       "Year     0\n",
       "dtype: int64"
      ]
     },
     "execution_count": 13,
     "metadata": {},
     "output_type": "execute_result"
    }
   ],
   "source": [
    "data_movies.isnull().sum().sort_values(ascending = False)"
   ]
  },
  {
   "cell_type": "markdown",
   "id": "e62e2464",
   "metadata": {},
   "source": [
    "Se puede observar que no ha valores duplicados, ni nulos ni NaN. Se procederá a realizar un analisis global del nuevo dataset."
   ]
  },
  {
   "cell_type": "code",
   "execution_count": null,
   "id": "2fe265d6",
   "metadata": {},
   "outputs": [],
   "source": [
    "#Exportar el nuevo dataset\n",
    "data_movies.to_excel('new_datamovies.xlsx', index = False)"
   ]
  },
  {
   "cell_type": "markdown",
   "id": "1df6996b",
   "metadata": {},
   "source": [
    "### Visión global "
   ]
  },
  {
   "cell_type": "markdown",
   "id": "aaf777f0",
   "metadata": {},
   "source": [
    "* **Información general**"
   ]
  },
  {
   "cell_type": "code",
   "execution_count": 14,
   "id": "6370f53b",
   "metadata": {},
   "outputs": [
    {
     "name": "stdout",
     "output_type": "stream",
     "text": [
      "<class 'pandas.core.frame.DataFrame'>\n",
      "RangeIndex: 3883 entries, 0 to 3882\n",
      "Data columns (total 4 columns):\n",
      " #   Column  Non-Null Count  Dtype \n",
      "---  ------  --------------  ----- \n",
      " 0   ID      3883 non-null   int64 \n",
      " 1   Title   3883 non-null   object\n",
      " 2   Genre   3883 non-null   object\n",
      " 3   Year    3883 non-null   int64 \n",
      "dtypes: int64(2), object(2)\n",
      "memory usage: 121.5+ KB\n"
     ]
    }
   ],
   "source": [
    "data_movies.info()"
   ]
  },
  {
   "cell_type": "markdown",
   "id": "c695055b",
   "metadata": {},
   "source": [
    "* **Número de valores unicos**"
   ]
  },
  {
   "cell_type": "code",
   "execution_count": 15,
   "id": "515218f4",
   "metadata": {},
   "outputs": [
    {
     "data": {
      "text/plain": [
       "ID       3883\n",
       "Title    3841\n",
       "Genre      18\n",
       "Year       81\n",
       "dtype: int64"
      ]
     },
     "execution_count": 15,
     "metadata": {},
     "output_type": "execute_result"
    }
   ],
   "source": [
    "data_movies.nunique()"
   ]
  },
  {
   "cell_type": "markdown",
   "id": "6a99d8cc",
   "metadata": {},
   "source": [
    "* **Visión global de estadísticos**"
   ]
  },
  {
   "cell_type": "markdown",
   "id": "10830701",
   "metadata": {},
   "source": [
    "   1.  **Variables Categóricas**"
   ]
  },
  {
   "cell_type": "code",
   "execution_count": 16,
   "id": "15d0dc91",
   "metadata": {},
   "outputs": [
    {
     "data": {
      "text/html": [
       "<div>\n",
       "<style scoped>\n",
       "    .dataframe tbody tr th:only-of-type {\n",
       "        vertical-align: middle;\n",
       "    }\n",
       "\n",
       "    .dataframe tbody tr th {\n",
       "        vertical-align: top;\n",
       "    }\n",
       "\n",
       "    .dataframe thead th {\n",
       "        text-align: right;\n",
       "    }\n",
       "</style>\n",
       "<table border=\"1\" class=\"dataframe\">\n",
       "  <thead>\n",
       "    <tr style=\"text-align: right;\">\n",
       "      <th></th>\n",
       "      <th>count</th>\n",
       "      <th>unique</th>\n",
       "      <th>top</th>\n",
       "      <th>freq</th>\n",
       "    </tr>\n",
       "  </thead>\n",
       "  <tbody>\n",
       "    <tr>\n",
       "      <th>Title</th>\n",
       "      <td>3883</td>\n",
       "      <td>3841</td>\n",
       "      <td>Hamlet</td>\n",
       "      <td>5</td>\n",
       "    </tr>\n",
       "    <tr>\n",
       "      <th>Genre</th>\n",
       "      <td>3883</td>\n",
       "      <td>18</td>\n",
       "      <td>Drama</td>\n",
       "      <td>1176</td>\n",
       "    </tr>\n",
       "  </tbody>\n",
       "</table>\n",
       "</div>"
      ],
      "text/plain": [
       "      count unique      top  freq\n",
       "Title  3883   3841  Hamlet      5\n",
       "Genre  3883     18    Drama  1176"
      ]
     },
     "execution_count": 16,
     "metadata": {},
     "output_type": "execute_result"
    }
   ],
   "source": [
    "data_movies.describe(include = 'O').T"
   ]
  },
  {
   "cell_type": "code",
   "execution_count": 17,
   "id": "664d9224",
   "metadata": {},
   "outputs": [
    {
     "data": {
      "text/plain": [
       "Hamlet                                         5\n",
       "Mummy, The                                     3\n",
       "Ballad of Narayama, The (Narayama Bushiko)     2\n",
       "Dracula                                        2\n",
       "101 Dalmatians                                 2\n",
       "                                              ..\n",
       "Breathing Room                                 1\n",
       "Paris Was a Woman                              1\n",
       "Anna                                           1\n",
       "I'm Not Rappaport                              1\n",
       "Contender, The                                 1\n",
       "Name: Title, Length: 3841, dtype: int64"
      ]
     },
     "execution_count": 17,
     "metadata": {},
     "output_type": "execute_result"
    }
   ],
   "source": [
    "Titles = data_movies.Title.value_counts()\n",
    "Titles "
   ]
  },
  {
   "cell_type": "code",
   "execution_count": 19,
   "id": "de64720a",
   "metadata": {},
   "outputs": [
    {
     "data": {
      "text/plain": [
       "Drama          1176\n",
       "Comedy         1024\n",
       "Action          503\n",
       "Horror          262\n",
       "Adventure       155\n",
       "Crime           131\n",
       "Documentary     123\n",
       "Thriller        101\n",
       "Animation        90\n",
       "Children's       89\n",
       "Romance          50\n",
       "Sci-Fi           46\n",
       "Mystery          36\n",
       "Western          33\n",
       "Film-Noir        25\n",
       "Musical          25\n",
       "War              12\n",
       "Fantasy           2\n",
       "Name: Genre, dtype: int64"
      ]
     },
     "execution_count": 19,
     "metadata": {},
     "output_type": "execute_result"
    }
   ],
   "source": [
    "Genres = data_movies.Genre.value_counts()\n",
    "Genres"
   ]
  },
  {
   "cell_type": "markdown",
   "id": "8e69b919",
   "metadata": {},
   "source": [
    "2. **Variables Numéricas**"
   ]
  },
  {
   "cell_type": "code",
   "execution_count": 27,
   "id": "a2ae3612",
   "metadata": {},
   "outputs": [
    {
     "data": {
      "text/html": [
       "<div>\n",
       "<style scoped>\n",
       "    .dataframe tbody tr th:only-of-type {\n",
       "        vertical-align: middle;\n",
       "    }\n",
       "\n",
       "    .dataframe tbody tr th {\n",
       "        vertical-align: top;\n",
       "    }\n",
       "\n",
       "    .dataframe thead th {\n",
       "        text-align: right;\n",
       "    }\n",
       "</style>\n",
       "<table border=\"1\" class=\"dataframe\">\n",
       "  <thead>\n",
       "    <tr style=\"text-align: right;\">\n",
       "      <th></th>\n",
       "      <th>index</th>\n",
       "      <th>Year</th>\n",
       "    </tr>\n",
       "  </thead>\n",
       "  <tbody>\n",
       "    <tr>\n",
       "      <th>0</th>\n",
       "      <td>count</td>\n",
       "      <td>3883.000</td>\n",
       "    </tr>\n",
       "    <tr>\n",
       "      <th>1</th>\n",
       "      <td>mean</td>\n",
       "      <td>1986.067</td>\n",
       "    </tr>\n",
       "    <tr>\n",
       "      <th>2</th>\n",
       "      <td>std</td>\n",
       "      <td>16.896</td>\n",
       "    </tr>\n",
       "    <tr>\n",
       "      <th>3</th>\n",
       "      <td>min</td>\n",
       "      <td>1919.000</td>\n",
       "    </tr>\n",
       "    <tr>\n",
       "      <th>4</th>\n",
       "      <td>25%</td>\n",
       "      <td>1982.000</td>\n",
       "    </tr>\n",
       "    <tr>\n",
       "      <th>5</th>\n",
       "      <td>50%</td>\n",
       "      <td>1994.000</td>\n",
       "    </tr>\n",
       "    <tr>\n",
       "      <th>6</th>\n",
       "      <td>75%</td>\n",
       "      <td>1997.000</td>\n",
       "    </tr>\n",
       "    <tr>\n",
       "      <th>7</th>\n",
       "      <td>max</td>\n",
       "      <td>2000.000</td>\n",
       "    </tr>\n",
       "  </tbody>\n",
       "</table>\n",
       "</div>"
      ],
      "text/plain": [
       "   index      Year\n",
       "0  count  3883.000\n",
       "1   mean  1986.067\n",
       "2    std    16.896\n",
       "3    min  1919.000\n",
       "4    25%  1982.000\n",
       "5    50%  1994.000\n",
       "6    75%  1997.000\n",
       "7    max  2000.000"
      ]
     },
     "execution_count": 27,
     "metadata": {},
     "output_type": "execute_result"
    }
   ],
   "source": [
    "data_movies['Year'].describe().round(3).reset_index()"
   ]
  },
  {
   "cell_type": "code",
   "execution_count": 24,
   "id": "7391da36",
   "metadata": {},
   "outputs": [
    {
     "data": {
      "text/plain": [
       "1994.0"
      ]
     },
     "execution_count": 24,
     "metadata": {},
     "output_type": "execute_result"
    }
   ],
   "source": [
    "#Calculo de la mediana de la varaible \"Año\"\n",
    "mediana=(data_movies['Year']).median()\n",
    "mediana_round=round(mediana,3)\n",
    "mediana_round"
   ]
  },
  {
   "cell_type": "code",
   "execution_count": 50,
   "id": "02a4f2b9",
   "metadata": {},
   "outputs": [
    {
     "data": {
      "text/plain": [
       "1986.067"
      ]
     },
     "execution_count": 50,
     "metadata": {},
     "output_type": "execute_result"
    }
   ],
   "source": [
    "#Calculo de la media de la varaible \"Año\"\n",
    "media=(data_movies['Year']).mean()\n",
    "media_round=round(media,3)\n",
    "media_round"
   ]
  },
  {
   "cell_type": "markdown",
   "id": "eabf263b",
   "metadata": {},
   "source": [
    "**Observaciones:**\n",
    "* El dataset muestra 3883 titulos registraods, siendo el film mas frecuente Hanlet, asumiendo que tiene varias versiones con respecto al intevrlo del tiempo.\n",
    "* Se encuentran 18 tipos de generos y el más frecuente es \"Drama\".\n",
    "* La media se ecuentra en el año 1986 y la mediana (50% de los datos) es de 1994."
   ]
  },
  {
   "cell_type": "markdown",
   "id": "9eae9a2d",
   "metadata": {},
   "source": [
    "## Ejercicio N°3"
   ]
  },
  {
   "cell_type": "markdown",
   "id": "c7acc23f",
   "metadata": {},
   "source": [
    "* Muestra tu creatividad. ¿Qué crees relevante mostrar del Dataset \" movies.dat \" del ejercicio anterior?\n",
    "\n",
    "* Realiza una o dos representaciones gráficas y justifica tu elección."
   ]
  },
  {
   "cell_type": "markdown",
   "id": "829148d3",
   "metadata": {},
   "source": [
    "* **Análisis exploratorio y visualización**"
   ]
  },
  {
   "cell_type": "code",
   "execution_count": 25,
   "id": "c087fb52",
   "metadata": {},
   "outputs": [],
   "source": [
    "import seaborn as sns\n",
    "import matplotlib.pyplot as plt\n",
    "%matplotlib inline"
   ]
  },
  {
   "cell_type": "markdown",
   "id": "891cd123",
   "metadata": {},
   "source": [
    "1. **Número de peliculas por años**"
   ]
  },
  {
   "cell_type": "code",
   "execution_count": 69,
   "id": "f0b88815",
   "metadata": {},
   "outputs": [
    {
     "data": {
      "image/png": "[encoded data removed]",
      "text/plain": [
       "<Figure size 1440x720 with 1 Axes>"
      ]
     },
     "metadata": {},
     "output_type": "display_data"
    }
   ],
   "source": [
    "sns.set(style=\"darkgrid\")\n",
    "fig_dims = (20, 10)\n",
    "fig, ax = plt.subplots(figsize=fig_dims)\n",
    "\n",
    "ax = sns.histplot( x = data_movies['Year'], color = 'blue', bins=80)\n",
    "\n",
    "plt.title(\"Films per Year\", fontsize = 25)\n",
    "ax.set_ylabel(\"Frecuencia\")\n",
    "\n",
    "plt.show()"
   ]
  },
  {
   "cell_type": "markdown",
   "id": "a60300e9",
   "metadata": {},
   "source": [
    "Se puede observa la evolución del mundo del cine entre los años **1920-2000**, en donde hubo un aumento constante, sin embargo en donde se observa el mayor auge de peliculas producidas se encuetra mediado de los años **90**, con un crecimiento de mas de un **100%**."
   ]
  },
  {
   "cell_type": "code",
   "execution_count": 77,
   "id": "59005d97",
   "metadata": {},
   "outputs": [
    {
     "data": {
      "image/png": "[encoded data removed]",
      "text/plain": [
       "<Figure size 576x576 with 1 Axes>"
      ]
     },
     "metadata": {},
     "output_type": "display_data"
    }
   ],
   "source": [
    "fig_dims = (8,8)\n",
    "fig, ax = plt.subplots(figsize= fig_dims)\n",
    "\n",
    "ax = sns.boxplot(x = data_movies['Year'], color = 'blue', fliersize= 5, linewidth= 4, width = 0.5)\n",
    "\n",
    "#graficar la media y mediana en el gráfico\n",
    "ax.axvline(x=media_round, linewidth=3, color='g', label=\"mean\", alpha=0.6,ls='--')\n",
    "ax.axvline(x=mediana_round, linewidth=3, color='g', label=\"median\", alpha=0.6,ls='-')\n",
    "\n",
    "plt.title('Films per Year', fontsize = 17)\n",
    "\n",
    "plt.show()"
   ]
  },
  {
   "cell_type": "markdown",
   "id": "2561d8d4",
   "metadata": {},
   "source": [
    "El gráfico boxplot confirma lo anteriormente indicado, se puede observar que existe una asimetría sesgada a la izquierda, debido que el valor de la media es inferior al valor de la mediana.\n",
    "La parte izquierda de la caja es mayor que la de la derecha, lo que indica que al auge de la evolución del cine estan comprendidos entre el 25% y el 50% de la muestra, es decir, entre los años 1980 mediados de los años 1990.\n",
    "Adcionalmente se pueden observa los valores atípicos por encima del límite inferior."
   ]
  },
  {
   "cell_type": "markdown",
   "id": "5a61955b",
   "metadata": {},
   "source": [
    "2. **Distribucción de las películas por géneros**"
   ]
  },
  {
   "cell_type": "code",
   "execution_count": 75,
   "id": "4ade0df8",
   "metadata": {},
   "outputs": [
    {
     "data": {
      "image/png": "[encoded data removed]",
      "text/plain": [
       "<Figure size 576x576 with 1 Axes>"
      ]
     },
     "metadata": {},
     "output_type": "display_data"
    }
   ],
   "source": [
    "fig_dims = (8,8)\n",
    "fig, ax = plt.subplots(figsize= fig_dims)\n",
    "\n",
    "sns.set(style=\"darkgrid\")\n",
    "\n",
    "ax= sns.barplot(x=Genres.index, y=Genres)\n",
    "\n",
    "plt.xticks(rotation=90)\n",
    "plt.title(\"Genres per Films\", fontsize = 16)\n",
    "ax.set_xlabel(\"Genres\")\n",
    "ax.set_ylabel(\"Num of Films\")\n",
    "\n",
    "\n",
    "plt.show()"
   ]
  },
  {
   "cell_type": "markdown",
   "id": "36632b49",
   "metadata": {},
   "source": [
    "En este grafico se observa que los géneros con mayor films son Drama, Comedia y Acción."
   ]
  },
  {
   "cell_type": "code",
   "execution_count": null,
   "id": "8b1cf343",
   "metadata": {},
   "outputs": [],
   "source": []
  }
 ],
 "metadata": {
  "kernelspec": {
   "display_name": "Python 3 (ipykernel)",
   "language": "python",
   "name": "python3"
  },
  "language_info": {
   "codemirror_mode": {
    "name": "ipython",
    "version": 3
   },
   "file_extension": ".py",
   "mimetype": "text/x-python",
   "name": "python",
   "nbconvert_exporter": "python",
   "pygments_lexer": "ipython3",
   "version": "3.9.12"
  },
  "nbTranslate": {
   "displayLangs": [
    "*"
   ],
   "hotkey": "alt-t",
   "langInMainMenu": true,
   "sourceLang": "en",
   "targetLang": "fr",
   "useGoogleTranslate": true
  },
  "toc": {
   "base_numbering": 1,
   "nav_menu": {},
   "number_sections": true,
   "sideBar": true,
   "skip_h1_title": false,
   "title_cell": "Table of Contents",
   "title_sidebar": "Contents",
   "toc_cell": false,
   "toc_position": {},
   "toc_section_display": true,
   "toc_window_display": false
  },
  "varInspector": {
   "cols": {
    "lenName": 16,
    "lenType": 16,
    "lenVar": 40
   },
   "kernels_config": {
    "python": {
     "delete_cmd_postfix": "",
     "delete_cmd_prefix": "del ",
     "library": "var_list.py",
     "varRefreshCmd": "print(var_dic_list())"
    },
    "r": {
     "delete_cmd_postfix": ") ",
     "delete_cmd_prefix": "rm(",
     "library": "var_list.r",
     "varRefreshCmd": "cat(var_dic_list()) "
    }
   },
   "types_to_exclude": [
    "module",
    "function",
    "builtin_function_or_method",
    "instance",
    "_Feature"
   ],
   "window_display": false
  }
 },
 "nbformat": 4,
 "nbformat_minor": 5
}
